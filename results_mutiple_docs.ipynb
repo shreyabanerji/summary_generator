{
 "cells": [
  {
   "cell_type": "code",
   "execution_count": 1,
   "metadata": {},
   "outputs": [],
   "source": [
    "from ipynb.fs.defs.bbc_gpt2_all import gpt2\n",
    "from ipynb.fs.defs.bbc_bert1_all import bert\n",
    "from ipynb.fs.defs.bbc_bart1_all import bart\n",
    "from ipynb.fs.defs.multiple import cosine_similarity\n",
    "from ipynb.fs.defs.multiple import jaccard_similarity\n",
    "from ipynb.fs.defs.multiple import get_processed_text\n",
    "from ipynb.fs.defs.speech_to_text import get_text"
   ]
  },
  {
   "cell_type": "code",
   "execution_count": 2,
   "metadata": {},
   "outputs": [],
   "source": [
    "import rouge"
   ]
  },
  {
   "cell_type": "code",
   "execution_count": 3,
   "metadata": {},
   "outputs": [],
   "source": [
    "import sklearn.metrics as metric\n",
    "def get_score(all_hypothesis, all_references):\n",
    "    apply_avg = 'Avg'\n",
    "    evaluator = rouge.Rouge(metrics=['rouge-n', 'rouge-l', 'rouge-w'],\n",
    "                               max_n=4,\n",
    "                               limit_length=True,\n",
    "                               length_limit=100,\n",
    "                               length_limit_type='words',\n",
    "                               apply_avg=apply_avg,\n",
    "                               alpha=0.5, # Default F1_score\n",
    "                               weight_factor=1.2,\n",
    "                               stemming=True)\n",
    "    scores = evaluator.get_scores(all_hypothesis, all_references)\n",
    "    for key,value in scores.items():\n",
    "        print(key.upper()+'\\n')\n",
    "        print(\"F: \"+str(value['f'])+\"  R: \"+str(value['r'])+\"  P: \"+str(value['p'])+\"\\n\")\n",
    "    return scores"
   ]
  },
  {
   "cell_type": "code",
   "execution_count": 4,
   "metadata": {},
   "outputs": [],
   "source": [
    "def evaluate_models():\n",
    "    my_summaries=[]\n",
    "    bert_summaries=[]\n",
    "    bart_summaries=[]\n",
    "    gpt2_summaries=[]\n",
    "    for i in range(1,6):\n",
    "        \n",
    "        m1 = open(\"/Users/shreyabanerjee/Summarizer/multiple_docs/human_written_summary/\"+str(i)+str(i)+\".txt\",\"r\")\n",
    "        summary=m1.read()\n",
    "        my_summaries.append(summary)\n",
    "        print(\"\\nHuman written summary \\n\",summary)\n",
    "        \n",
    "        path=\"/Users/shreyabanerjee/Summarizer/multiple_docs/news/Topic\"+str(i)\n",
    "        \n",
    "        text=get_processed_text(path,cosine_similarity)\n",
    "        \n",
    "        print(\"\\nSummarizing articles from Topic \"+str(i)+\" using BERT model\\n\")\n",
    "        s1=bert(text)\n",
    "        bert_summaries.append(s1)\n",
    "        print(\"BERT summary\\n\",s1)\n",
    "        #print(\"Score for BERT summary\",get_score(bert_summary,my_summary))\n",
    "        \n",
    "        print(\"\\nSummarizing articles from Topic \"+str(i)+\" using BART model\\n\")\n",
    "        s2=bart(text)\n",
    "        bart_summaries.append(s2)\n",
    "        print(\"BART summary\\n\",s2)\n",
    "        #print(\"Score for BART summary\",get_score(bart_summary,my_summary)) \n",
    "        \n",
    "        print(\"\\nSummarizing articles from Topic \"+str(i)+\" using GPT2 model\\n\")\n",
    "        s3=gpt2(text)\n",
    "        gpt2_summaries.append(s3)\n",
    "        print(\"GPT2 summary\\n\",s3)\n",
    "        #print(\"Score for GPT2 summary\",get_score(gpt2_summary,my_summary)) \n",
    "        \n",
    "    print(\"Score for BERT summary\")\n",
    "    results_bert=get_score(bert_summaries,my_summaries)\n",
    "    print(\"Score for BART summary\")\n",
    "    results_bart=get_score(bart_summaries,my_summaries)\n",
    "    print(\"Score for GPT2 summary\")\n",
    "    results_gpt2=get_score(gpt2_summaries,my_summaries)\n",
    "    return results_bert,results_bart,results_gpt2"
   ]
  },
  {
   "cell_type": "code",
   "execution_count": 5,
   "metadata": {},
   "outputs": [
    {
     "name": "stdout",
     "output_type": "stream",
     "text": [
      "\n",
      "Human written summary \n",
      " A Bengaluru based model and makeup artist had accused Zomato delivery guy of attacking her for his service was booked by the police on Monday.An FIR was also registered againast Hitesha Chandranee  under a number of sections namely 341 (wrongful restraint), 355(assault or criminal force), 504 (intentional insult), and 506 (criminal intimidation) of the IPC as put out by News18.The Electronic City police arrested him and released him on bail.Kamaraj, who worked with Zomato for three years confronted Hitesha’s allegation,that she abused him in filthy language and threw slippers at him. He also claimed that she injured herself on her nose from her finger ring in the process of assaulting him and she posted her bleeding node video on Twitter.The roads he took to deliver food were under construction and had over 10 blockades.Kamraj said after he apologised for the late delivery,the woman did not stop to abuse him and asked him to take the food back.The model said in her video that she had filed a complaint with zomato executive to deliver the food at no cost or cancel it.Resonding the incident ,Zomato founder Deepinder Goyal said they had suspended the delivery boy and it also stated that the company was paying for all the legal expenses and medical expenses of hiteesha.The company's utmost priority has been to get the truth out and they are helping both Hitesha and Kamraj with all support they need till the investigation is completed.\n",
      "\n",
      "Summarizing articles from Topic 1 using BERT model\n",
      "\n",
      "BERT summary\n",
      " A Bengaluru-based model and makeup artist, who accused Zomato's delivery man of attacking her over alleged delayed service, was booked by the police on Monday. He further said she injured herself on her nose from her finger ring in the process of assaulting him. The injury may have been caused by the woman’s ring,” he had said. Zomato founder Deepinder Goyal later said the firm is covering Hitesha’s medical expenses and, at the same time, was providing legal assistance, besides covering his earnings. Please let me know how I can help.. Chandranee, a model and make-up artist, had on March 9 posted a video on Instagram claiming that Kamaraj had assaulted her for complaining against him over late delivery of food. \"Right from the get-go, our topmost priority has been to get to the truth.\n",
      "\n",
      "Summarizing articles from Topic 1 using BART model\n",
      "\n",
      "BART summary\n",
      " Hitesha Chandranee has been charged with wrongful restraint, assault, intentional insult, and criminal intimidation based on a complaint by the delivery man. The model had claimed that the food was delivered to her 59 minutes late on March 9 and she was assaulted when she sought to cancel the order. Zomato founder Deepinder Goyal later said the firm is covering Hitesha’s medical expenses and, at the same time, was providing legal assistance, besides covering his earnings. After his version came out in the public domain, Kamaraj drew a lot of support.\n",
      "\n",
      "Summarizing articles from Topic 1 using GPT2 model\n",
      "\n"
     ]
    },
    {
     "name": "stderr",
     "output_type": "stream",
     "text": [
      "Some weights of GPT2Model were not initialized from the model checkpoint at gpt2-medium and are newly initialized: ['h.0.attn.masked_bias', 'h.1.attn.masked_bias', 'h.2.attn.masked_bias', 'h.3.attn.masked_bias', 'h.4.attn.masked_bias', 'h.5.attn.masked_bias', 'h.6.attn.masked_bias', 'h.7.attn.masked_bias', 'h.8.attn.masked_bias', 'h.9.attn.masked_bias', 'h.10.attn.masked_bias', 'h.11.attn.masked_bias', 'h.12.attn.masked_bias', 'h.13.attn.masked_bias', 'h.14.attn.masked_bias', 'h.15.attn.masked_bias', 'h.16.attn.masked_bias', 'h.17.attn.masked_bias', 'h.18.attn.masked_bias', 'h.19.attn.masked_bias', 'h.20.attn.masked_bias', 'h.21.attn.masked_bias', 'h.22.attn.masked_bias', 'h.23.attn.masked_bias']\n",
      "You should probably TRAIN this model on a down-stream task to be able to use it for predictions and inference.\n"
     ]
    },
    {
     "name": "stdout",
     "output_type": "stream",
     "text": [
      "GPT2 summary\n",
      " A Bengaluru-based model and makeup artist, who accused Zomato's delivery man of attacking her over alleged delayed service, was booked by the police on Monday. Kamaraj, who had worked with Zomato for three years, countered Hitesha’s allegation, stating she abused him in filthy language and hurled slippers at him. He further said she injured herself on her nose from her finger ring in the process of assaulting him. “While I apologised, the woman continued to hurl abuses and asked me to carry back the food. This is inhuman, shameful and heart-breaking.\n",
      "\n",
      "Human written summary \n",
      " Ariz Khan was convicted for murder of Delhi Police Inspector Mohan Chand Sharma in 2008 Batla House encounter between the police and alleged terrorists in Jamia Nagar in south Delhi following serial bomb blasts in the national capital in which 39 people died and 159 were injured.The additional sessions judge Sandepp Yadav imposed death penalty on Ariz Khan,one of the convicts after considering the nature of crime and circumstances. The encounter between Delhi Police officer and Mujahideen members in flat at South Delhi led to death of Inspector along with 2 others who had injuries. Ariz Khan was also slapped with fine of 11 lakh  rupees and 10 among that to be given to family of deceased. Judge also said that in a 22 page verdict M S Khan opposed the capital punishment saying it was not premediated but deadly weapons like AK47,2 pistols which was retrieved was enough to conclude that they were planning for some terrorist and anti social activities.The court had said on March 8 that it was \"duly proved that Ariz Khan and his associates caused murder of police official and fired gunshot on the police official\". His appeal against the verdict has been pending in the high court. Ariz Khan had fled from the spot and was declared proclaimed offender. He was arrested on February 14, 2018, and faced the trial.The case will then go to Delhi High Court for confirmation of punishment.\n",
      "\n",
      "Summarizing articles from Topic 2 using BERT model\n",
      "\n",
      "BERT summary\n",
      " A Delhi court Monday awarded death penalty to Ariz Khan for the murder of police inspector Mohan Chand Sharma in the 2008 Batla House encounter case. Inspector Sharma of the special cell was killed during the 2008 Batla House encounter in Jamia Nagar in south Delhi. The trial court had sentenced Indian Mujahideen terrorist Shahzad Ahmed in July 2013 to life imprisonment in connection with the case. His appeal against the verdict has been pending in the high court. Ariz Khan had fled from the spot and was declared proclaimed offender. He added that widespread concerns were raised after the incident regarding the safety of police officers and it instilled fear in the minds of the common people.dvocate M S Khan, appearing for Ariz, opposed the death penalty and said the incident was not premeditated.\n",
      "\n",
      "Summarizing articles from Topic 2 using BART model\n",
      "\n",
      "BART summary\n",
      " A Delhi court awarded death penalty to Ariz Khan for the murder of police inspector Mohan Chand Sharma in the 2008 Batla House encounter case. Police sought death penalty for Ariz, allegedly associated with the terror outfit Indian Mujahideen, saying it was not just any killing but a murder of a law enforcement officer who was a defender of justice. Additional Sessions Judge Sandeep Yadav also imposed a total fine of Rs 11 lakh against Ariz in the case. The court said Rs 10 lakh should be immediately released to the family members of Sharma. Ariz’s lawyer M S Khan opposed capital punishment saying the incident was not premeditated.\n",
      "\n",
      "Summarizing articles from Topic 2 using GPT2 model\n",
      "\n"
     ]
    },
    {
     "name": "stderr",
     "output_type": "stream",
     "text": [
      "Some weights of GPT2Model were not initialized from the model checkpoint at gpt2-medium and are newly initialized: ['h.0.attn.masked_bias', 'h.1.attn.masked_bias', 'h.2.attn.masked_bias', 'h.3.attn.masked_bias', 'h.4.attn.masked_bias', 'h.5.attn.masked_bias', 'h.6.attn.masked_bias', 'h.7.attn.masked_bias', 'h.8.attn.masked_bias', 'h.9.attn.masked_bias', 'h.10.attn.masked_bias', 'h.11.attn.masked_bias', 'h.12.attn.masked_bias', 'h.13.attn.masked_bias', 'h.14.attn.masked_bias', 'h.15.attn.masked_bias', 'h.16.attn.masked_bias', 'h.17.attn.masked_bias', 'h.18.attn.masked_bias', 'h.19.attn.masked_bias', 'h.20.attn.masked_bias', 'h.21.attn.masked_bias', 'h.22.attn.masked_bias', 'h.23.attn.masked_bias']\n",
      "You should probably TRAIN this model on a down-stream task to be able to use it for predictions and inference.\n"
     ]
    },
    {
     "name": "stdout",
     "output_type": "stream",
     "text": [
      "GPT2 summary\n",
      " A Delhi court Monday awarded death penalty to Ariz Khan for the murder of police inspector Mohan Chand Sharma in the 2008 Batla House encounter case. The trial court had sentenced Indian Mujahideen terrorist Shahzad Ahmed in July 2013 to life imprisonment in connection with the case. Ariz Khan had fled from the spot and was declared proclaimed offender. Hence, I am referring the matter to Delhi Legal Services Authority for award of additional compensation,” the judge further said. “Ariz along with others was carrying deadly weapons which clearly suggests that they were ready to kill anybody in any eventuality. He added that widespread concerns were raised after the incident regarding the safety of police officers and it instilled fear in the minds of the common people.dvocate M S Khan, appearing for Ariz, opposed the death penalty and said the incident was not premeditated.\n",
      "\n",
      "Human written summary \n",
      " Europe is experiencing heat wave and draughts in last seven years,which is part of extreme weather related events in region for over 2000 yrs.The researchers at Czech Globe Centre with these ill effects like early deaths ,crop destruction and forest fires ,are a threat to agriculture and forestry .These impacts are expected to increase the intensity in coming decades.A 27000 growth rings from 147 oak trees has been analysed and published in a journal.For the last century, researchers referred to living oaks, along with timber from old buildings.For middle ages scientists also used oak flourishing in river deposits and wood in Roman period on which they determined temperatures from wood density and width.On checking for water available to trees they determined timeline and intensity of draughts. Turns out, what Europe experienced in the last few years is worse than what happened in the last 2,000 years.An International team led by cambridge's Department off Geography, studied the chemical fingerprints on European Oak trees to reconstruct Summer Climate over 2100 years spanning from 75BC to 2018.Büntgen  particularly enable to decode the complete pic of past draught variations, which helped them for functioning of ecosystem and societies.Climate change is not getting drier everywhere, some place can be wetter or colder to some extreme conditions which may be devastating for agriculture,ecosystem or whole. the tweet shared by U.K. Green Party also stated that if we dont reduce carbon emissions it will get worse.If trees don’t get enough water, they become more susceptible to pests, disease, and fires. The study's authors warned that worsening droughts threaten trees.\n",
      "\n",
      "Summarizing articles from Topic 3 using BERT model\n",
      "\n",
      "BERT summary\n",
      " Heatwaves and droughts that have plagued Europe in the last seven years constitute the most extreme weather-related events in the region for over 2,000 years, a research posits. The study was undertaken by researchers at the CzechGlobe centre, and referred to the sharp rise as particularly scary for agriculture and forestry. \"Our results show that what we have experienced over the past five summers is extraordinary for central Europe, in terms of how dry it has been consecutively,\" dendrochronology specialist and lead author Professor Ulf Büntgen of Cambridge's Department of Geography said in a statement. Büntgen and the team of international researchers linked the recent droughts to the climate crisis, including its impacts on the jet stream. \"Climate change does not mean that it will get drier everywhere: In 2015, severe drought and heat waves spread across Europe causing agricultural output to decline, wildfires to intensify, sources of freshwater to diminish, and hundreds of premature deaths. Some places may get wetter or colder, but extreme conditions will become more frequent, which could be devastating for agriculture, ecosystems, and societies as a whole,\" Büntgen said. If trees don’t get enough water, they become more susceptible to pests, disease, and fires, and struggle to grow, a phenomena that is well underway in Europe. \"Unprecedented forest dieback across much of central Europe corroborates our results.\n",
      "\n",
      "Summarizing articles from Topic 3 using BART model\n",
      "\n",
      "BART summary\n",
      " Researchers analysed 27,000 growth rings from 147 European oak trees. The study found that summer climate in Europe has been drying over the last two millennia. Scientists believe that climate change driven changes caused circulation of air over the continent to change. With these changes, heatwaves and droughts will become more common in the future. The findings were published Monday in the journal Nature Geoscience. The U.K.Green Party shared The Guardian's reporting on the new study with a tweet declaring, \"Climate change is here. If we don't cut carbon emissions, it will get worse. Let's fight this while it's still fixable.\" The study was undertaken by researchers at the CzechGlobe centre, and referred to the sharp rise as particularly scary for agriculture and forestry. The heatwaves have had a series of ill-effects in the region - ranging from thousands of early deaths, destruction of crops, and the increasingly common sight of forest fires.\n",
      "\n",
      "Summarizing articles from Topic 3 using GPT2 model\n",
      "\n"
     ]
    },
    {
     "name": "stderr",
     "output_type": "stream",
     "text": [
      "Some weights of GPT2Model were not initialized from the model checkpoint at gpt2-medium and are newly initialized: ['h.0.attn.masked_bias', 'h.1.attn.masked_bias', 'h.2.attn.masked_bias', 'h.3.attn.masked_bias', 'h.4.attn.masked_bias', 'h.5.attn.masked_bias', 'h.6.attn.masked_bias', 'h.7.attn.masked_bias', 'h.8.attn.masked_bias', 'h.9.attn.masked_bias', 'h.10.attn.masked_bias', 'h.11.attn.masked_bias', 'h.12.attn.masked_bias', 'h.13.attn.masked_bias', 'h.14.attn.masked_bias', 'h.15.attn.masked_bias', 'h.16.attn.masked_bias', 'h.17.attn.masked_bias', 'h.18.attn.masked_bias', 'h.19.attn.masked_bias', 'h.20.attn.masked_bias', 'h.21.attn.masked_bias', 'h.22.attn.masked_bias', 'h.23.attn.masked_bias']\n",
      "You should probably TRAIN this model on a down-stream task to be able to use it for predictions and inference.\n"
     ]
    },
    {
     "name": "stdout",
     "output_type": "stream",
     "text": [
      "GPT2 summary\n",
      " Heatwaves and droughts that have plagued Europe in the last seven years constitute the most extreme weather-related events in the region for over 2,000 years, a research posits. To ascertain this, the researchers analysed tree rings dating back to Roman rings, but attributing the extreme changes to global warming. The study was published in the journal nature Geoscience and analysed 27,000 growth rings from 147 oak trees. Based on this, they determined temperatures from wood density and width. The reconstruction showed an overall drying trend. But the samples showed that the droughts from 2015-2018 were \"unprecedented\" over the massive time span. We're all aware of the cluster of exceptionally hot and dry summers we've had over the past few years, but we needed precise reconstructions of historical conditions to see how these recent extremes compare to previous years,\" said Ulf Büntgen, professor in Cambridge's Department of Geography and a lead author of the report, in a statement. As ice sheets and glaciers melt in Greenland and the Arctic, for example, huge amounts of cold air and water are being poured into the atmosphere, destabilizing the Gulf Stream over the Atlantic Ocean, according to the New York Times. Climate change does not mean that it will get drier everywhere:\n",
      "\n",
      "Human written summary \n",
      " A BJP MP from Himachal Pradesh, Ram Swaroop Sharma,62 who was a two time MP and parliamentarian was found hanging in his room .On arrival at hospital he was declared dead.his body has been sent to post mortem. The events of the International Shivaratri Festival in Himachal Pradesh have been canceled due to the sudden demise of BJP MP Ramswaroop. The cause of his suicide is not known at the moment.This looked suspecious as no sucide note was found from spot.The investigation is going on in this matter and Prime Minister Narendra Modi also tweeted which said he was pained by parlimentrarian untimely demise and appreciated him as a dedicated leader who worked tirelessly and always committed to solve peoples problem.Himachal Pradesh Chief Minister Jairam Thakur remembered Mr Sharma as a dedicated party worker.His body was brought back to the Gomti apartment after the post-mortem.Sharma was currently a member of the standing committee on external affairs and the consultative committee, ministry of external affairs.The proceedings in the state had also been cancelled and tribute was paid to him after which house was adjourned till 1 clock.\n",
      "\n",
      "\n",
      "\n",
      "Summarizing articles from Topic 4 using BERT model\n",
      "\n",
      "BERT summary\n",
      " A BJP MP from Himachal Pradesh, Ram Swaroop Sharma, was found dead at his residence in Delhi today, the police said, adding they are investigating whether it was a case of suicide. He was taken to a hospital where doctors pronounced him dead on arrival. A police team was rushed to his residence immediately and forced open the door and found Mr Sharma hanging. \"He was found hanging inside his room, which was locked from inside. Himachal Pradesh Chief Minister Jairam Thakur remembered Mr Sharma as a dedicated party worker. Meanwhile, after the death of the BJP MP, the meeting of the BJP parliamentary party to be held today has been cancelled.. He breathed his last at Ram Manohar Lohia Hospital in Delhi. A large quantity of medicines have been found from inside his room.\n",
      "\n",
      "Summarizing articles from Topic 4 using BART model\n",
      "\n",
      "BART summary\n",
      " Ram Swaroop Sharma, 62, was found hanging in his room, Delhi Police PRO Chinmoy Biswal said. He was taken to a hospital where doctors pronounced him dead on arrival. Prime Minister Narendra Modi tweeted to say that he was pained by Mr Sharma's untimely and unfortunate demise. The meeting of the BJP Parliamentary Party scheduled to be held today (Wednesday) has been canceled due to his demise.. The events of the International Shivaratri Festival in Himachal Pradesh have been canceleddue to the sudden demise of BJP MP Ramswaroop.\n",
      "\n",
      "Summarizing articles from Topic 4 using GPT2 model\n",
      "\n"
     ]
    },
    {
     "name": "stderr",
     "output_type": "stream",
     "text": [
      "Some weights of GPT2Model were not initialized from the model checkpoint at gpt2-medium and are newly initialized: ['h.0.attn.masked_bias', 'h.1.attn.masked_bias', 'h.2.attn.masked_bias', 'h.3.attn.masked_bias', 'h.4.attn.masked_bias', 'h.5.attn.masked_bias', 'h.6.attn.masked_bias', 'h.7.attn.masked_bias', 'h.8.attn.masked_bias', 'h.9.attn.masked_bias', 'h.10.attn.masked_bias', 'h.11.attn.masked_bias', 'h.12.attn.masked_bias', 'h.13.attn.masked_bias', 'h.14.attn.masked_bias', 'h.15.attn.masked_bias', 'h.16.attn.masked_bias', 'h.17.attn.masked_bias', 'h.18.attn.masked_bias', 'h.19.attn.masked_bias', 'h.20.attn.masked_bias', 'h.21.attn.masked_bias', 'h.22.attn.masked_bias', 'h.23.attn.masked_bias']\n",
      "You should probably TRAIN this model on a down-stream task to be able to use it for predictions and inference.\n"
     ]
    },
    {
     "name": "stdout",
     "output_type": "stream",
     "text": [
      "GPT2 summary\n",
      " A BJP MP from Himachal Pradesh, Ram Swaroop Sharma, was found dead at his residence in Delhi today, the police said, adding they are investigating whether it was a case of suicide. \"He was found hanging inside his room, which was locked from inside. No suicide note has been found,\" the police said. The parliamentarian was reportedly unwell for the past few months. Himachal Pradesh Chief Minister Jairam Thakur remembered Mr Sharma as a dedicated party worker. We used his work as an example for party workers. We're extremely saddened, hope his soul rests in peace. Meanwhile, after the death of the BJP MP, the meeting of the BJP parliamentary party to be held today has been cancelled.. He breathed his last at Ram Manohar Lohia Hospital in Delhi. His body was brought back to the Gomti apartment after the post-mortem.\n",
      "\n",
      "Human written summary \n",
      " A group of 40 Banaras Hindu University students had staged a demonstration against the appointment of Nita Ambani of Reliance Industries as a visiting faculty at Women Study Center.The department says that this decision has been taken for the students studying in the Center for Women's Studies.Rumours were along with her 2 other ,the wife of billionaire industrialist Gautam Adani, and Usha Mittal, the wife of UK-based steel tycoon Lakshmi Mittal.The students questioned on how Nita Ambani can be an example of women empowerment.Students say that being the wife of a bourgeoisie can not be a measure of women empowerment.Students protested demanding they invite icons like Arunima Sinha, Bachendri Pal, Mary Kom or Kiran Bedi.Following the riot the university Vice Chanceller clarified that no official order was issued or decision was taken by varsity on appointing Ambani as professor. The company's statement came a day after several university students protested against the so-called \"appointment\" outside the Vice Chancellor's residence. RIL clarified that Ambani has not received an invitation from BHU.\n",
      "\n",
      "Summarizing articles from Topic 5 using BERT model\n",
      "\n",
      "BERT summary\n",
      " The proposal of Banaras Hindu University (BHU) to appoint Nita Ambani, the wife of billionaire industrialist Mukesh Ambani, as a visiting professor is being opposed by students who see it as a “wrong example” being set by the university. Students say that being the wife of a bourgeoisie can not be a measure of women empowerment. This proposal has been sent not by the BHU administration but by a department. When they protested, the BHU administration said that they have no idea about it and no proposal for this method has been sent by BHU.If a department has sent something in person, then it cannot say but currently it is not from BHU.After this assurance from the Vice Chancellor, the students ended their protest.. Reliance Industries Limited on Wednesday (March 17) refuted claims of Nita Ambani joining Banaras Hindu University (BHU) as a visiting faculty. The top officials of the University, including the Dean of the Faculty of Social Sciences, came to the protest site to placate the students. According to the students, Bhatnagar assured them that no such decision has been taken. Earlier, media reports claimed that Ambani had received a proposal from the university to join as a visiting professor.\n",
      "\n",
      "Summarizing articles from Topic 5 using BART model\n",
      "\n",
      "BART summary\n",
      " Banaras Hindu University (BHU) wants to appoint Nita Ambani as a visiting professor. The university's Social Sciences Faculty had sent a proposal to Reliance Foundation, asking Ambani to join the university. The proposal has been sent only to Ambani, authorities confirmed. The other two names considered for the remaining two visiting faculty posts were that of Priti Adani, the wife of billionaire industrialist Gautam Adani and Usha Mittal, wife of UK-based steel tycoon Lakshmi Mittal. Students protested against the proposal by sieging the vice-chancellor residence.\n",
      "\n",
      "Summarizing articles from Topic 5 using GPT2 model\n",
      "\n"
     ]
    },
    {
     "name": "stderr",
     "output_type": "stream",
     "text": [
      "Some weights of GPT2Model were not initialized from the model checkpoint at gpt2-medium and are newly initialized: ['h.0.attn.masked_bias', 'h.1.attn.masked_bias', 'h.2.attn.masked_bias', 'h.3.attn.masked_bias', 'h.4.attn.masked_bias', 'h.5.attn.masked_bias', 'h.6.attn.masked_bias', 'h.7.attn.masked_bias', 'h.8.attn.masked_bias', 'h.9.attn.masked_bias', 'h.10.attn.masked_bias', 'h.11.attn.masked_bias', 'h.12.attn.masked_bias', 'h.13.attn.masked_bias', 'h.14.attn.masked_bias', 'h.15.attn.masked_bias', 'h.16.attn.masked_bias', 'h.17.attn.masked_bias', 'h.18.attn.masked_bias', 'h.19.attn.masked_bias', 'h.20.attn.masked_bias', 'h.21.attn.masked_bias', 'h.22.attn.masked_bias', 'h.23.attn.masked_bias']\n",
      "You should probably TRAIN this model on a down-stream task to be able to use it for predictions and inference.\n"
     ]
    },
    {
     "name": "stdout",
     "output_type": "stream",
     "text": [
      "GPT2 summary\n",
      " The proposal of Banaras Hindu University (BHU) to appoint Nita Ambani, the wife of billionaire industrialist Mukesh Ambani, as a visiting professor is being opposed by students who see it as a “wrong example” being set by the university. “We do academic and research work related to women empowerment, along with graduation and post-graduation courses. According to him, Vice-Chancellor Bhatnagar told them that he had no information about the proposal being sent to Nita Ambani.. A group of students in BHU protested against the proposal to make Reliance Foundation chairperson Nita Ambani a visiting professor at BHU by sieging the vice-chancellor residence. Students say that being the wife of a bourgeoisie can not be a measure of women empowerment. The top officials of the University, including the Dean of the Faculty of Social Sciences, came to the protest site to placate the students. In a bid to convince the students, the dean said that no such decision has been finalised yet. Following the commotion, VC Rakesh Bhatnagar came out to discuss the matter with the students.\n",
      "Score for BERT summary\n",
      "ROUGE-2\n",
      "\n",
      "F: 0.19900236384630562  R: 0.1962112782370636  P: 0.2019215229215229\n",
      "\n",
      "ROUGE-3\n",
      "\n",
      "F: 0.11605369915980002  R: 0.11427815188808906  P: 0.11791543331071763\n",
      "\n",
      "ROUGE-1\n",
      "\n",
      "F: 0.46034987227204993  R: 0.4543321049103824  P: 0.46662894860914667\n",
      "\n",
      "ROUGE-4\n",
      "\n",
      "F: 0.0834750779853554  R: 0.08207262495787865  P: 0.08494738101426139\n",
      "\n",
      "ROUGE-L\n",
      "\n",
      "F: 0.3560285380101066  R: 0.3523710872824206  P: 0.3598182024184717\n",
      "\n",
      "ROUGE-W\n",
      "\n",
      "F: 0.11765116020218909  R: 0.08143595196517364  P: 0.2119508142424824\n",
      "\n",
      "Score for BART summary\n",
      "ROUGE-2\n",
      "\n",
      "F: 0.18891518379804256  R: 0.17737862506460642  P: 0.20262486548368136\n",
      "\n",
      "ROUGE-3\n",
      "\n",
      "F: 0.11274547393745156  R: 0.1051847233292122  P: 0.12175027859069561\n",
      "\n",
      "ROUGE-1\n",
      "\n",
      "F: 0.4526608727400931  R: 0.429823164429832  P: 0.47970823009232977\n",
      "\n",
      "ROUGE-4\n",
      "\n",
      "F: 0.07824114904391004  R: 0.07272247586749625  P: 0.08483326425382318\n",
      "\n",
      "ROUGE-L\n",
      "\n",
      "F: 0.3372140685507251  R: 0.3225023249188969  P: 0.35418969690493557\n",
      "\n",
      "ROUGE-W\n",
      "\n",
      "F: 0.11030363366310084  R: 0.07464901845341113  P: 0.21226725935784763\n",
      "\n",
      "Score for GPT2 summary\n",
      "ROUGE-2\n",
      "\n",
      "F: 0.19577277788480732  R: 0.1902797890529659  P: 0.20177716400022566\n",
      "\n",
      "ROUGE-3\n",
      "\n",
      "F: 0.11213223783946993  R: 0.10851365101679208  P: 0.11611808907336152\n",
      "\n",
      "ROUGE-1\n",
      "\n",
      "F: 0.4511770110967757  R: 0.4408650142096365  P: 0.46231547665364303\n",
      "\n",
      "ROUGE-4\n",
      "\n",
      "F: 0.07299102923629495  R: 0.0705052754978964  P: 0.07573806260509694\n",
      "\n",
      "ROUGE-L\n",
      "\n",
      "F: 0.37404265440163265  R: 0.36649583112651307  P: 0.3821197731301407\n",
      "\n",
      "ROUGE-W\n",
      "\n",
      "F: 0.11946876644023112  R: 0.08213139105212394  P: 0.21933853917186572\n",
      "\n"
     ]
    }
   ],
   "source": [
    "results_bert,results_bart,results_gpt2=evaluate_models()"
   ]
  },
  {
   "cell_type": "code",
   "execution_count": 6,
   "metadata": {},
   "outputs": [
    {
     "name": "stdout",
     "output_type": "stream",
     "text": [
      "{'rouge-2': {'f': 0.18891518379804256, 'p': 0.20262486548368136, 'r': 0.17737862506460642}, 'rouge-3': {'f': 0.11274547393745156, 'p': 0.12175027859069561, 'r': 0.1051847233292122}, 'rouge-1': {'f': 0.4526608727400931, 'p': 0.47970823009232977, 'r': 0.429823164429832}, 'rouge-4': {'f': 0.07824114904391004, 'p': 0.08483326425382318, 'r': 0.07272247586749625}, 'rouge-l': {'f': 0.3372140685507251, 'p': 0.35418969690493557, 'r': 0.3225023249188969}, 'rouge-w': {'f': 0.11030363366310084, 'p': 0.21226725935784763, 'r': 0.07464901845341113}}\n"
     ]
    }
   ],
   "source": [
    "print(results_bart)"
   ]
  },
  {
   "cell_type": "code",
   "execution_count": 7,
   "metadata": {},
   "outputs": [
    {
     "data": {
      "image/png": "[encoded data removed]",
      "text/plain": [
       "<Figure size 720x360 with 1 Axes>"
      ]
     },
     "metadata": {
      "needs_background": "light"
     },
     "output_type": "display_data"
    },
    {
     "data": {
      "image/png": "[encoded data removed]",
      "text/plain": [
       "<Figure size 720x360 with 1 Axes>"
      ]
     },
     "metadata": {
      "needs_background": "light"
     },
     "output_type": "display_data"
    },
    {
     "data": {
      "image/png": "[encoded data removed]",
      "text/plain": [
       "<Figure size 720x360 with 1 Axes>"
      ]
     },
     "metadata": {
      "needs_background": "light"
     },
     "output_type": "display_data"
    },
    {
     "data": {
      "image/png": "[encoded data removed]",
      "text/plain": [
       "<Figure size 720x360 with 1 Axes>"
      ]
     },
     "metadata": {
      "needs_background": "light"
     },
     "output_type": "display_data"
    }
   ],
   "source": [
    "import numpy as np\n",
    "import matplotlib.pyplot as plt\n",
    "import pandas as pd\n",
    "\n",
    "\n",
    "#bart results\n",
    "df1 = pd.DataFrame([['p','rouge-1',results_bart['rouge-1']['p']],['p','rouge-2',results_bart['rouge-2']['p']],['p','rouge-l',results_bart['rouge-l']['p']],['r','rouge-1',results_bart['rouge-1']['r']],\n",
    "                   ['r','rouge-2',results_bart['rouge-2']['r']],['r','rouge-l',results_bart['rouge-l']['r']],['f','rouge-1',results_bart['rouge-1']['f']],['f','rouge-2',results_bart['rouge-2']['f']],['f','rouge-l',results_bart['rouge-1']['f']]],columns=['bart','metric','val'])\n",
    "#bert results\n",
    "df2 = pd.DataFrame([['p','rouge-1',results_bert['rouge-1']['p']],['p','rouge-2',results_bert['rouge-2']['p']],['p','rouge-l',results_bert['rouge-l']['p']],['r','rouge-1',results_bert['rouge-1']['r']],\n",
    "                   ['r','rouge-2',results_bert['rouge-2']['r']],['r','rouge-l',results_bert['rouge-l']['r']],['f','rouge-1',results_bert['rouge-1']['f']],['f','rouge-2',results_bert['rouge-2']['f']],['f','rouge-l',results_bert['rouge-1']['f']]],columns=['bert','metric','val'])\n",
    "#gpt-2 results\n",
    "df3 = pd.DataFrame([['p','rouge-1',results_gpt2['rouge-1']['p']],['p','rouge-2',results_gpt2['rouge-2']['p']],['p','rouge-l',results_gpt2['rouge-l']['p']],['r','rouge-1',results_gpt2['rouge-1']['r']],\n",
    "                   ['r','rouge-2',results_gpt2['rouge-2']['r']],['r','rouge-l',results_gpt2['rouge-l']['r']],['f','rouge-1',results_gpt2['rouge-1']['f']],['f','rouge-2',results_gpt2['rouge-2']['f']],['f','rouge-l',results_gpt2['rouge-1']['f']]],columns=['gpt-2','metric','val'])\n",
    "\n",
    "#comparision of 3 methods based on results of rouge-1(or any variant)\n",
    "df4 = pd.DataFrame([['bart','p',results_bart['rouge-1']['p']],['bart','r',results_bart['rouge-1']['r']],['bart','f',results_bart['rouge-1']['f']],\n",
    "                    ['bert','p',results_bert['rouge-1']['p']],['bert','r',results_bert['rouge-1']['r']],['bert','f',results_bert['rouge-1']['f']],\n",
    "                    ['gpt-2','p',results_gpt2['rouge-1']['p']],['gpt-2','r',results_gpt2['rouge-1']['r']],['gpt-2','f',results_gpt2['rouge-1']['f']]],columns=['rouge-1','metric','val'])\n",
    "\n",
    "df1.pivot(\"bart\", \"metric\", \"val\").plot(kind='bar',figsize=(10,5))\n",
    "plt.show()\n",
    "\n",
    "df2.pivot(\"bert\", \"metric\", \"val\").plot(kind='bar',figsize=(10,5))\n",
    "plt.show()\n",
    "\n",
    "df3.pivot(\"gpt-2\", \"metric\", \"val\").plot(kind='bar',figsize=(10,5))\n",
    "plt.show()\n",
    "\n",
    "df4.pivot(\"rouge-1\", \"metric\", \"val\").plot(kind='bar',figsize=(10,5))\n",
    "plt.show()"
   ]
  }
 ],
 "metadata": {
  "kernelspec": {
   "display_name": "Python 3",
   "language": "python",
   "name": "python3"
  },
  "language_info": {
   "codemirror_mode": {
    "name": "ipython",
    "version": 3
   },
   "file_extension": ".py",
   "mimetype": "text/x-python",
   "name": "python",
   "nbconvert_exporter": "python",
   "pygments_lexer": "ipython3",
   "version": "3.8.5"
  }
 },
 "nbformat": 4,
 "nbformat_minor": 4
}
