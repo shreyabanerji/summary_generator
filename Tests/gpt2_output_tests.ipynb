{
 "cells": [
  {
   "cell_type": "code",
   "execution_count": 8,
   "metadata": {},
   "outputs": [],
   "source": [
    "import sys  \n",
    "sys.path.insert(0, \"/Users/shreyabanerjee/Summarizer\")\n",
    "from ipynb.fs.defs.bbc_gpt2_all import gpt2\n",
    "from ipynb.fs.defs.multiple import cosine_similarity\n",
    "from ipynb.fs.defs.multiple import get_processed_text\n",
    "import unittest"
   ]
  },
  {
   "cell_type": "code",
   "execution_count": 9,
   "metadata": {},
   "outputs": [],
   "source": [
    "class gpt2OutputTest(unittest.TestCase):\n",
    "    def setUp(self):\n",
    "        self.text=get_processed_text(\"/Users/shreyabanerjee/Summarizer/multiple_docs/news/Topic2\",cosine_similarity)\n",
    "        self.output=gpt2(self.text)\n",
    "    def test_type(self):\n",
    "        self.assertIsInstance(self.output, str, \"The type is not string\")\n",
    "    def test_length(self):\n",
    "        self.assertNotEqual(self.output, '', \"The string is empty\")\n",
    "    def test_if_none(self):\n",
    "        self.assertIsNotNone(self.output,\"The output is None\")"
   ]
  },
  {
   "cell_type": "code",
   "execution_count": 10,
   "metadata": {},
   "outputs": [
    {
     "name": "stderr",
     "output_type": "stream",
     "text": [
      "test_if_none (__main__.gpt2OutputTest) ... /Users/shreyabanerjee/Summarizer/multiple.ipynb:33: ResourceWarning: unclosed file <_io.TextIOWrapper name='/Users/shreyabanerjee/Summarizer/multiple_docs/news/Topic2/t1.txt' mode='r' encoding='UTF-8'>\n",
      "  \"def processFile(filename):\\n\",\n",
      "ResourceWarning: Enable tracemalloc to get the object allocation traceback\n",
      "/Users/shreyabanerjee/Summarizer/multiple.ipynb:33: ResourceWarning: unclosed file <_io.TextIOWrapper name='/Users/shreyabanerjee/Summarizer/multiple_docs/news/Topic2/t2.txt' mode='r' encoding='UTF-8'>\n",
      "  \"def processFile(filename):\\n\",\n",
      "ResourceWarning: Enable tracemalloc to get the object allocation traceback\n",
      "/Users/shreyabanerjee/Summarizer/multiple.ipynb:33: ResourceWarning: unclosed file <_io.TextIOWrapper name='/Users/shreyabanerjee/Summarizer/multiple_docs/news/Topic2/t3.txt' mode='r' encoding='UTF-8'>\n",
      "  \"def processFile(filename):\\n\",\n",
      "ResourceWarning: Enable tracemalloc to get the object allocation traceback\n",
      "Some weights of GPT2Model were not initialized from the model checkpoint at gpt2-medium and are newly initialized: ['h.0.attn.masked_bias', 'h.1.attn.masked_bias', 'h.2.attn.masked_bias', 'h.3.attn.masked_bias', 'h.4.attn.masked_bias', 'h.5.attn.masked_bias', 'h.6.attn.masked_bias', 'h.7.attn.masked_bias', 'h.8.attn.masked_bias', 'h.9.attn.masked_bias', 'h.10.attn.masked_bias', 'h.11.attn.masked_bias', 'h.12.attn.masked_bias', 'h.13.attn.masked_bias', 'h.14.attn.masked_bias', 'h.15.attn.masked_bias', 'h.16.attn.masked_bias', 'h.17.attn.masked_bias', 'h.18.attn.masked_bias', 'h.19.attn.masked_bias', 'h.20.attn.masked_bias', 'h.21.attn.masked_bias', 'h.22.attn.masked_bias', 'h.23.attn.masked_bias']\n",
      "You should probably TRAIN this model on a down-stream task to be able to use it for predictions and inference.\n",
      "ok\n",
      "test_length (__main__.gpt2OutputTest) ... /Users/shreyabanerjee/Summarizer/multiple.ipynb:33: ResourceWarning: unclosed file <_io.TextIOWrapper name='/Users/shreyabanerjee/Summarizer/multiple_docs/news/Topic2/t1.txt' mode='r' encoding='UTF-8'>\n",
      "  \"def processFile(filename):\\n\",\n",
      "ResourceWarning: Enable tracemalloc to get the object allocation traceback\n",
      "/Users/shreyabanerjee/Summarizer/multiple.ipynb:33: ResourceWarning: unclosed file <_io.TextIOWrapper name='/Users/shreyabanerjee/Summarizer/multiple_docs/news/Topic2/t2.txt' mode='r' encoding='UTF-8'>\n",
      "  \"def processFile(filename):\\n\",\n",
      "ResourceWarning: Enable tracemalloc to get the object allocation traceback\n",
      "/Users/shreyabanerjee/Summarizer/multiple.ipynb:33: ResourceWarning: unclosed file <_io.TextIOWrapper name='/Users/shreyabanerjee/Summarizer/multiple_docs/news/Topic2/t3.txt' mode='r' encoding='UTF-8'>\n",
      "  \"def processFile(filename):\\n\",\n",
      "ResourceWarning: Enable tracemalloc to get the object allocation traceback\n",
      "Some weights of GPT2Model were not initialized from the model checkpoint at gpt2-medium and are newly initialized: ['h.0.attn.masked_bias', 'h.1.attn.masked_bias', 'h.2.attn.masked_bias', 'h.3.attn.masked_bias', 'h.4.attn.masked_bias', 'h.5.attn.masked_bias', 'h.6.attn.masked_bias', 'h.7.attn.masked_bias', 'h.8.attn.masked_bias', 'h.9.attn.masked_bias', 'h.10.attn.masked_bias', 'h.11.attn.masked_bias', 'h.12.attn.masked_bias', 'h.13.attn.masked_bias', 'h.14.attn.masked_bias', 'h.15.attn.masked_bias', 'h.16.attn.masked_bias', 'h.17.attn.masked_bias', 'h.18.attn.masked_bias', 'h.19.attn.masked_bias', 'h.20.attn.masked_bias', 'h.21.attn.masked_bias', 'h.22.attn.masked_bias', 'h.23.attn.masked_bias']\n",
      "You should probably TRAIN this model on a down-stream task to be able to use it for predictions and inference.\n",
      "ok\n",
      "test_type (__main__.gpt2OutputTest) ... /Users/shreyabanerjee/Summarizer/multiple.ipynb:33: ResourceWarning: unclosed file <_io.TextIOWrapper name='/Users/shreyabanerjee/Summarizer/multiple_docs/news/Topic2/t1.txt' mode='r' encoding='UTF-8'>\n",
      "  \"def processFile(filename):\\n\",\n",
      "ResourceWarning: Enable tracemalloc to get the object allocation traceback\n",
      "/Users/shreyabanerjee/Summarizer/multiple.ipynb:33: ResourceWarning: unclosed file <_io.TextIOWrapper name='/Users/shreyabanerjee/Summarizer/multiple_docs/news/Topic2/t2.txt' mode='r' encoding='UTF-8'>\n",
      "  \"def processFile(filename):\\n\",\n",
      "ResourceWarning: Enable tracemalloc to get the object allocation traceback\n",
      "/Users/shreyabanerjee/Summarizer/multiple.ipynb:33: ResourceWarning: unclosed file <_io.TextIOWrapper name='/Users/shreyabanerjee/Summarizer/multiple_docs/news/Topic2/t3.txt' mode='r' encoding='UTF-8'>\n",
      "  \"def processFile(filename):\\n\",\n",
      "ResourceWarning: Enable tracemalloc to get the object allocation traceback\n",
      "Some weights of GPT2Model were not initialized from the model checkpoint at gpt2-medium and are newly initialized: ['h.0.attn.masked_bias', 'h.1.attn.masked_bias', 'h.2.attn.masked_bias', 'h.3.attn.masked_bias', 'h.4.attn.masked_bias', 'h.5.attn.masked_bias', 'h.6.attn.masked_bias', 'h.7.attn.masked_bias', 'h.8.attn.masked_bias', 'h.9.attn.masked_bias', 'h.10.attn.masked_bias', 'h.11.attn.masked_bias', 'h.12.attn.masked_bias', 'h.13.attn.masked_bias', 'h.14.attn.masked_bias', 'h.15.attn.masked_bias', 'h.16.attn.masked_bias', 'h.17.attn.masked_bias', 'h.18.attn.masked_bias', 'h.19.attn.masked_bias', 'h.20.attn.masked_bias', 'h.21.attn.masked_bias', 'h.22.attn.masked_bias', 'h.23.attn.masked_bias']\n",
      "You should probably TRAIN this model on a down-stream task to be able to use it for predictions and inference.\n",
      "ok\n",
      "\n",
      "----------------------------------------------------------------------\n",
      "Ran 3 tests in 152.187s\n",
      "\n",
      "OK\n"
     ]
    }
   ],
   "source": [
    "if __name__ == '__main__':\n",
    "    unittest.main(argv=[''], verbosity=3,exit=False)"
   ]
  },
  {
   "cell_type": "code",
   "execution_count": null,
   "metadata": {},
   "outputs": [],
   "source": []
  }
 ],
 "metadata": {
  "kernelspec": {
   "display_name": "Python 3",
   "language": "python",
   "name": "python3"
  },
  "language_info": {
   "codemirror_mode": {
    "name": "ipython",
    "version": 3
   },
   "file_extension": ".py",
   "mimetype": "text/x-python",
   "name": "python",
   "nbconvert_exporter": "python",
   "pygments_lexer": "ipython3",
   "version": "3.8.5"
  }
 },
 "nbformat": 4,
 "nbformat_minor": 4
}
