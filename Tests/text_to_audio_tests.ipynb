{
 "cells": [
  {
   "cell_type": "code",
   "execution_count": 17,
   "metadata": {},
   "outputs": [],
   "source": [
    "import sys  \n",
    "sys.path.insert(0, \"/Users/shreyabanerjee/Summarizer\")\n",
    "from ipynb.fs.defs.text_to_speech import convert_to_audio\n",
    "import unittest\n",
    "import pathlib"
   ]
  },
  {
   "cell_type": "code",
   "execution_count": 18,
   "metadata": {},
   "outputs": [],
   "source": [
    "class TestCaseBase(unittest.TestCase):\n",
    "    def assertIsFile(self, path):\n",
    "        if not pathlib.Path(path).resolve().is_file():\n",
    "            raise AssertionError(\"File does not exist: %s\" % str(path))\n",
    "class ActualTest(TestCaseBase):\n",
    "    def setUp(self):\n",
    "        self.filename=\"test_audio\"\n",
    "    def test(self):\n",
    "        convert_to_audio(\"Hello, how are you?\",self.filename)\n",
    "        path = pathlib.Path(\"/Users/shreyabanerjee/Summarizer/Audio_summaries/\"+filename+\".mp3\")\n",
    "        self.assertIsFile(path)"
   ]
  },
  {
   "cell_type": "code",
   "execution_count": null,
   "metadata": {},
   "outputs": [
    {
     "name": "stderr",
     "output_type": "stream",
     "text": [
      "test (__main__.ActualTest) ... "
     ]
    }
   ],
   "source": [
    "if __name__ == '__main__':\n",
    "    unittest.main(argv=[''] ,verbosity=3,exit=False)"
   ]
  },
  {
   "cell_type": "code",
   "execution_count": null,
   "metadata": {},
   "outputs": [],
   "source": []
  }
 ],
 "metadata": {
  "kernelspec": {
   "display_name": "Python 3",
   "language": "python",
   "name": "python3"
  },
  "language_info": {
   "codemirror_mode": {
    "name": "ipython",
    "version": 3
   },
   "file_extension": ".py",
   "mimetype": "text/x-python",
   "name": "python",
   "nbconvert_exporter": "python",
   "pygments_lexer": "ipython3",
   "version": "3.8.5"
  }
 },
 "nbformat": 4,
 "nbformat_minor": 4
}
