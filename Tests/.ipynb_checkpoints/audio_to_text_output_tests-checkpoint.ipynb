{
 "cells": [
  {
   "cell_type": "code",
   "execution_count": 1,
   "metadata": {},
   "outputs": [],
   "source": [
    "from ipynb.fs.defs.speech_to_text import get_text\n",
    "import unittest"
   ]
  },
  {
   "cell_type": "code",
   "execution_count": 3,
   "metadata": {},
   "outputs": [],
   "source": [
    "class TestTextOutput(unittest.TestCase):\n",
    "    def setUp(self):\n",
    "        self.output=get_text(\"/Users/shreyabanerjee/Summarizer/Audio/Input/audio5.mp3\")\n",
    "    def test_type(self):\n",
    "        self.assertIsInstance(self.output, str, \"The type is not string\")\n",
    "    def test_length(self):\n",
    "        self.assertNotEqual(self.output, '', \"The string is empty\")\n",
    "    def test_if_none(self):\n",
    "        self.assertIsNotNone(self.output,\"The output is None\")"
   ]
  },
  {
   "cell_type": "code",
   "execution_count": 4,
   "metadata": {},
   "outputs": [
    {
     "name": "stderr",
     "output_type": "stream",
     "text": [
      "test_if_none (__main__.TestTextOutput) ... <ipython-input-3-38e180a0176e>:3: ResourceWarning: unclosed <ssl.SSLSocket fd=66, family=AddressFamily.AF_INET, type=SocketKind.SOCK_STREAM, proto=0, laddr=('192.168.0.192', 60852), raddr=('23.63.110.138', 443)>\n",
      "  self.output=get_text(\"/Users/shreyabanerjee/Summarizer/Audio/Input/audio5.mp3\")\n",
      "ResourceWarning: Enable tracemalloc to get the object allocation traceback\n",
      "ok\n",
      "test_length (__main__.TestTextOutput) ... <ipython-input-3-38e180a0176e>:3: ResourceWarning: unclosed <ssl.SSLSocket fd=66, family=AddressFamily.AF_INET, type=SocketKind.SOCK_STREAM, proto=0, laddr=('192.168.0.192', 60884), raddr=('23.63.110.138', 443)>\n",
      "  self.output=get_text(\"/Users/shreyabanerjee/Summarizer/Audio/Input/audio5.mp3\")\n",
      "ResourceWarning: Enable tracemalloc to get the object allocation traceback\n",
      "ok\n",
      "test_type (__main__.TestTextOutput) ... <ipython-input-3-38e180a0176e>:3: ResourceWarning: unclosed <ssl.SSLSocket fd=66, family=AddressFamily.AF_INET, type=SocketKind.SOCK_STREAM, proto=0, laddr=('192.168.0.192', 61032), raddr=('23.63.110.138', 443)>\n",
      "  self.output=get_text(\"/Users/shreyabanerjee/Summarizer/Audio/Input/audio5.mp3\")\n",
      "ResourceWarning: Enable tracemalloc to get the object allocation traceback\n",
      "ok\n",
      "\n",
      "----------------------------------------------------------------------\n",
      "Ran 3 tests in 531.476s\n",
      "\n",
      "OK\n"
     ]
    }
   ],
   "source": [
    "if __name__ == '__main__':\n",
    "    unittest.main(argv=[''], verbosity=3,exit=False)"
   ]
  }
 ],
 "metadata": {
  "kernelspec": {
   "display_name": "Python 3",
   "language": "python",
   "name": "python3"
  },
  "language_info": {
   "codemirror_mode": {
    "name": "ipython",
    "version": 3
   },
   "file_extension": ".py",
   "mimetype": "text/x-python",
   "name": "python",
   "nbconvert_exporter": "python",
   "pygments_lexer": "ipython3",
   "version": "3.8.5"
  }
 },
 "nbformat": 4,
 "nbformat_minor": 4
}
