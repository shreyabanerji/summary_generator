{
 "cells": [
  {
   "cell_type": "code",
   "execution_count": 1,
   "metadata": {},
   "outputs": [],
   "source": [
    "from ipynb.fs.defs.bbc_gpt2_all import gpt2\n",
    "from ipynb.fs.defs.bbc_bert1_all import bert\n",
    "from ipynb.fs.defs.bbc_bart1_all import bart\n",
    "from ipynb.fs.defs.multiple import cosine_similarity\n",
    "from ipynb.fs.defs.multiple import jaccard_similarity\n",
    "from ipynb.fs.defs.multiple import get_processed_text\n",
    "from ipynb.fs.defs.speech_to_text import get_text\n",
    "from ipynb.fs.defs.speech_to_text import preprocess\n",
    "from ipynb.fs.defs.text_to_speech import convert_to_audio"
   ]
  },
  {
   "cell_type": "code",
   "execution_count": 2,
   "metadata": {},
   "outputs": [],
   "source": [
    "path=\"/Users/shreyabanerjee/Summarizer/multiple_docs/news/Topic2\"\n",
    "path_audio='/Users/shreyabanerjee/Summarizer/Audio/Input/audio5.mp3'"
   ]
  },
  {
   "cell_type": "code",
   "execution_count": 1,
   "metadata": {},
   "outputs": [],
   "source": [
    "def preprocess(text):\n",
    "    new_text=''''''\n",
    "    for character in text:\n",
    "        new_text=new_text+character\n",
    "        if character==\".\":\n",
    "            new_text=new_text+\"\\n\"\n",
    "    return new_text"
   ]
  },
  {
   "cell_type": "code",
   "execution_count": 2,
   "metadata": {},
   "outputs": [],
   "source": [
    "def summarize(path,input_type,model_type,output_file_name):\n",
    "    my_summary=''''''\n",
    "    if(input_type==\"audio\"):\n",
    "        text=get_text(path)\n",
    "    elif(input_type==\"multiple_text_documents\"):\n",
    "        text=get_processed_text(path,cosine_similarity)\n",
    "    else:\n",
    "        print(\"Input type should be audio or multiple_text_documents\")\n",
    "        return\n",
    "    if(model_type==\"BERT\"):\n",
    "        print(\"\\n Summarizing using BERT model\")\n",
    "        \n",
    "        my_summary= bert(preprocess(text))\n",
    "    elif(model_type==\"BART\"):\n",
    "        print(\"\\n Summarizing using BART model\")\n",
    "        my_summary= bart(text)\n",
    "    elif(model_type==\"GPT2\"):\n",
    "        print(\"\\n Summarizing using GPT2 model\")\n",
    "        my_summary= gpt2(preprocess(text))\n",
    "    else:\n",
    "        print(\"Model type should only be BERT, BART or GPT2\")\n",
    "        return \"Give proper model name\"\n",
    "    \n",
    "    convert_to_audio(my_summary,output_file_name)\n",
    "    return my_summary\n",
    "        "
   ]
  },
  {
   "cell_type": "code",
   "execution_count": 4,
   "metadata": {},
   "outputs": [
    {
     "name": "stdout",
     "output_type": "stream",
     "text": [
      "\n",
      " Summarizing using BART model\n",
      "A Delhi court awarded death penalty to Ariz Khan for the murder of police inspector Mohan Chand Sharma in the 2008 Batla House encounter case. Police sought death penalty for Ariz, allegedly associated with the terror outfit Indian Mujahideen, saying it was not just any killing but a murder of a law enforcement officer who was a defender of justice. Additional Sessions Judge Sandeep Yadav also imposed a total fine of Rs 11 lakh against Ariz in the case. The court said Rs 10 lakh should be immediately released to the family members of Sharma. Ariz’s lawyer M S Khan opposed capital punishment saying the incident was not premeditated.\n"
     ]
    }
   ],
   "source": [
    "final_summary_1=summarize(path,\"multiple_text_documents\",\"BART\",\"summary1\")\n",
    "print(final_summary_1)"
   ]
  },
  {
   "cell_type": "code",
   "execution_count": 5,
   "metadata": {},
   "outputs": [
    {
     "name": "stdout",
     "output_type": "stream",
     "text": [
      "A Delhi court Monday awarded death penalty to Ariz Khan for the murder of police inspector Mohan Chand Sharma in the 2008 Batla House encounter case. Inspector Sharma of the special cell was killed during the 2008 Batla House encounter in Jamia Nagar in south Delhi. The trial court had sentenced Indian Mujahideen terrorist Shahzad Ahmed in July 2013 to life imprisonment in connection with the case. His appeal against the verdict has been pending in the high court. Ariz Khan had fled from the spot and was declared proclaimed offender. He added that widespread concerns were raised after the incident regarding the safety of police officers and it instilled fear in the minds of the common people.dvocate M S Khan, appearing for Ariz, opposed the death penalty and said the incident was not premeditated.\n",
      "None\n"
     ]
    }
   ],
   "source": [
    "final_summary_2=summarize(path,\"multiple_text_documents\",\"BERT\",\"summary2\")\n",
    "print(final_summary_2)"
   ]
  },
  {
   "cell_type": "code",
   "execution_count": 6,
   "metadata": {},
   "outputs": [
    {
     "name": "stderr",
     "output_type": "stream",
     "text": [
      "Some weights of GPT2Model were not initialized from the model checkpoint at gpt2-medium and are newly initialized: ['h.0.attn.masked_bias', 'h.1.attn.masked_bias', 'h.2.attn.masked_bias', 'h.3.attn.masked_bias', 'h.4.attn.masked_bias', 'h.5.attn.masked_bias', 'h.6.attn.masked_bias', 'h.7.attn.masked_bias', 'h.8.attn.masked_bias', 'h.9.attn.masked_bias', 'h.10.attn.masked_bias', 'h.11.attn.masked_bias', 'h.12.attn.masked_bias', 'h.13.attn.masked_bias', 'h.14.attn.masked_bias', 'h.15.attn.masked_bias', 'h.16.attn.masked_bias', 'h.17.attn.masked_bias', 'h.18.attn.masked_bias', 'h.19.attn.masked_bias', 'h.20.attn.masked_bias', 'h.21.attn.masked_bias', 'h.22.attn.masked_bias', 'h.23.attn.masked_bias']\n",
      "You should probably TRAIN this model on a down-stream task to be able to use it for predictions and inference.\n"
     ]
    },
    {
     "name": "stdout",
     "output_type": "stream",
     "text": [
      "A Delhi court Monday awarded death penalty to Ariz Khan for the murder of police inspector Mohan Chand Sharma in the 2008 Batla House encounter case. The trial court had sentenced Indian Mujahideen terrorist Shahzad Ahmed in July 2013 to life imprisonment in connection with the case. Ariz Khan had fled from the spot and was declared proclaimed offender. Hence, I am referring the matter to Delhi Legal Services Authority for award of additional compensation,” the judge further said. “Ariz along with others was carrying deadly weapons which clearly suggests that they were ready to kill anybody in any eventuality. He added that widespread concerns were raised after the incident regarding the safety of police officers and it instilled fear in the minds of the common people.dvocate M S Khan, appearing for Ariz, opposed the death penalty and said the incident was not premeditated.\n"
     ]
    }
   ],
   "source": [
    "final_summary_3=summarize(path,\"multiple_text_documents\",\"GPT2\",\"summary3\")\n",
    "print(final_summary_3)"
   ]
  },
  {
   "cell_type": "code",
   "execution_count": 8,
   "metadata": {},
   "outputs": [
    {
     "name": "stdout",
     "output_type": "stream",
     "text": [
      "\n",
      " Summarizing using BART model\n",
      "I would ask that I was raised up and use the tentative time is expired to a members property thanks .thank you very much Mr president a .we've got me on Saturday I have to say that I didn't anticipate speaking today but the important safe bank of this issue is one in which I feel it's important for me to dress .this morning. I was not in this party for years ago I bought what I observed as a voter as a citizen of Illinois .four years ago old worth troubling evidence of the fact that that every vote was being counted .I think that it is unfortunate for years later that we continue to speed circumstances in which people who believe that they have the right to bolt who show up at the polls still continue to confront the port of problems.\n"
     ]
    }
   ],
   "source": [
    "final_summary_4=summarize(path_audio,\"audio\",\"BART\",\"summary4\")\n",
    "print(final_summary_4)"
   ]
  },
  {
   "cell_type": "code",
   "execution_count": 8,
   "metadata": {},
   "outputs": [
    {
     "name": "stdout",
     "output_type": "stream",
     "text": [
      "\n",
      " Summarizing using BART model\n",
      "Rosa Parks helped lay the foundation for a country that could begin to live up to its creative .for life and a brave actions reminded each and everyone of us and my personal responsibility .to stand up for what's rate .and the central truth of the American experience that our greatness as a nation derives from seemingly ordinary people doing extraordinary thanks .well the box life was a lesson in perseverance .as a child she grew up listening to the cook likes plan right by her house fearing that our house would be broken down .in a small town in Alabama she attended a one room school for African American children that only went through the second grade.when she moved to Montgomery Alabama to continue her schooling she was forced to clean classrooms after score to pay your tuition. Although she attended Alabama state teachers college Rosa Parks would like later make a living as a seems stress and housekeeper.\n"
     ]
    }
   ],
   "source": [
    "path_audio_2='/Users/shreyabanerjee/Summarizer/Audio/Input/audio6.mp3'\n",
    "final_summary_5=summarize(path_audio_2,\"audio\",\"BART\",\"summary5\")\n",
    "print(final_summary_5)"
   ]
  },
  {
   "cell_type": "code",
   "execution_count": 13,
   "metadata": {},
   "outputs": [
    {
     "name": "stdout",
     "output_type": "stream",
     "text": [
      "\n",
      " Summarizing using BART model\n",
      "Director Hardik Mehta tries to blend the two genres in Roohi and succeeds to a large degree. The three actors at the centre of the plot – Rajkummar, Varun and Janhvi – are in great form and complement each other’s performances. The film has its share of laughs with references made to moments from iconic films – for instance, Rose “letting” Jack die in the iconic Titanic and the unforgettable ‘palat’ moment in Dilwale Dulhania Le Jayenge. The ending seems a tad bit convenient, haphazard and lacks the punch that one is fed right from the start. At over two hours, the film could definitely do with a tighter edit. A few exceptional scenes are only interesting in parts, however. The writers try their best to bring something new and interesting to the table and Mrdeep Singh Lamba Gautam Mehra's story is interesting.\n"
     ]
    }
   ],
   "source": [
    "path2=\"/Users/shreyabanerjee/Summarizer/multiple_docs/news/Topic6\"\n",
    "final_summary_5=summarize(path2,\"multiple_text_documents\",\"BART\",\"movie_review\")\n",
    "print(final_summary_5)"
   ]
  },
  {
   "cell_type": "code",
   "execution_count": 4,
   "metadata": {},
   "outputs": [
    {
     "name": "stdout",
     "output_type": "stream",
     "text": [
      "\n",
      " Summarizing using GPT2 model\n"
     ]
    },
    {
     "name": "stderr",
     "output_type": "stream",
     "text": [
      "Some weights of GPT2Model were not initialized from the model checkpoint at gpt2-medium and are newly initialized: ['h.0.attn.masked_bias', 'h.1.attn.masked_bias', 'h.2.attn.masked_bias', 'h.3.attn.masked_bias', 'h.4.attn.masked_bias', 'h.5.attn.masked_bias', 'h.6.attn.masked_bias', 'h.7.attn.masked_bias', 'h.8.attn.masked_bias', 'h.9.attn.masked_bias', 'h.10.attn.masked_bias', 'h.11.attn.masked_bias', 'h.12.attn.masked_bias', 'h.13.attn.masked_bias', 'h.14.attn.masked_bias', 'h.15.attn.masked_bias', 'h.16.attn.masked_bias', 'h.17.attn.masked_bias', 'h.18.attn.masked_bias', 'h.19.attn.masked_bias', 'h.20.attn.masked_bias', 'h.21.attn.masked_bias', 'h.22.attn.masked_bias', 'h.23.attn.masked_bias']\n",
      "You should probably TRAIN this model on a down-stream task to be able to use it for predictions and inference.\n"
     ]
    },
    {
     "name": "stdout",
     "output_type": "stream",
     "text": [
      "For many years, Bollywood did not give the horror-comedy genre a shot. In the film, the three actors at the centre of the plot – Rajkummar, Varun and Janhvi – are in great form and complement each other’s performances. Varun shines with his great comic timing and pitch-perfect expressions. Bhawra and Kattanni manage to kidnap Roohi while she is with her father (Rajesh Jais).As per the ‘pakdaai shaadi’ custom, after the girl is kidnapped, she is straight away taken to the marriage venue. However, instead of being frightened, Kattanni falls for the possessed Roohi. Mrighdeep Singh Lamba and Gautam Mehra's screenplay, however, is interesting only in parts. A few scenes are exceptional and bring the house down. On the flipside, the climax is disappointing. In the case of ROOHI, it doesn’t make the same impact as STREE.Also, here the goings-on are rather confusing and the dialect is difficult to understand. Several dialogues are sure to go bouncer for many viewers.. Every time a film decides to bring it up, it makes you cringe. She has as much right to be many entities, as anyone else. But the film squanders it with great determination, and tasteless jokes. when, when will mainstream movies stop terming wives ‘chudails’. Sharma’s brand of dialogue delivery already feels jaded.\n"
     ]
    }
   ],
   "source": [
    "path5=\"/Users/shreyabanerjee/Summarizer/multiple_docs/news/Topic6\"\n",
    "final_summary_5=summarize(path5,\"multiple_text_documents\",\"GPT2\",\"movie_review\")\n",
    "print(final_summary_5)"
   ]
  },
  {
   "cell_type": "code",
   "execution_count": 13,
   "metadata": {},
   "outputs": [
    {
     "name": "stdout",
     "output_type": "stream",
     "text": [
      "\n",
      " Summarizing using GPT2 model\n"
     ]
    },
    {
     "name": "stderr",
     "output_type": "stream",
     "text": [
      "Some weights of GPT2Model were not initialized from the model checkpoint at gpt2-medium and are newly initialized: ['h.0.attn.masked_bias', 'h.1.attn.masked_bias', 'h.2.attn.masked_bias', 'h.3.attn.masked_bias', 'h.4.attn.masked_bias', 'h.5.attn.masked_bias', 'h.6.attn.masked_bias', 'h.7.attn.masked_bias', 'h.8.attn.masked_bias', 'h.9.attn.masked_bias', 'h.10.attn.masked_bias', 'h.11.attn.masked_bias', 'h.12.attn.masked_bias', 'h.13.attn.masked_bias', 'h.14.attn.masked_bias', 'h.15.attn.masked_bias', 'h.16.attn.masked_bias', 'h.17.attn.masked_bias', 'h.18.attn.masked_bias', 'h.19.attn.masked_bias', 'h.20.attn.masked_bias', 'h.21.attn.masked_bias', 'h.22.attn.masked_bias', 'h.23.attn.masked_bias']\n",
      "You should probably TRAIN this model on a down-stream task to be able to use it for predictions and inference.\n"
     ]
    },
    {
     "name": "stdout",
     "output_type": "stream",
     "text": [
      "today the nation more and so genuine American here on . as most of you know Rosa Parks died yesterday in a role in Detroit . in the summer of nineteen fifty five she attended the Highlander folk school where she took classes in workers rights and racial equality . but what's not none of well known is that it wasn't the first time Rosa Parks refused to acquiesce to the gym processed . the same must rub %HESITATION had a address arrested . some school children atop the roles approached refused to give up received because I think we're tired . this solitary act of civil disobedience was also the spark that ignited the beginning of the app for segregation and inspired millions around the country and ultimately around the world to get involved in the fight for racial equality . bad quiet moment of courage my most products . I would not stand here before you today .\n"
     ]
    }
   ],
   "source": [
    "path_audio_6='/Users/shreyabanerjee/Summarizer/Audio/Input/audio6.mp3'\n",
    "final_summary_6=summarize(path_audio_6,\"audio\",\"GPT2\",\"summary_gpt2_audio\")\n",
    "print(final_summary_6)"
   ]
  },
  {
   "cell_type": "code",
   "execution_count": null,
   "metadata": {},
   "outputs": [],
   "source": []
  }
 ],
 "metadata": {
  "kernelspec": {
   "display_name": "Python 3",
   "language": "python",
   "name": "python3"
  },
  "language_info": {
   "codemirror_mode": {
    "name": "ipython",
    "version": 3
   },
   "file_extension": ".py",
   "mimetype": "text/x-python",
   "name": "python",
   "nbconvert_exporter": "python",
   "pygments_lexer": "ipython3",
   "version": "3.8.5"
  }
 },
 "nbformat": 4,
 "nbformat_minor": 4
}
