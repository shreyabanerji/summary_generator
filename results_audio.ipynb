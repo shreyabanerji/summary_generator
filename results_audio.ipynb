{
 "cells": [
  {
   "cell_type": "code",
   "execution_count": 30,
   "metadata": {},
   "outputs": [],
   "source": [
    "from ipynb.fs.defs.bbc_gpt2_all import gpt2\n",
    "from ipynb.fs.defs.bbc_bert1_all import bert\n",
    "from ipynb.fs.defs.bbc_bart1_all import bart\n",
    "from ipynb.fs.defs.multiple import cosine_similarity\n",
    "from ipynb.fs.defs.multiple import jaccard_similarity\n",
    "from ipynb.fs.defs.multiple import get_processed_text\n",
    "from ipynb.fs.defs.results_mutiple_docs import get_score\n",
    "from ipynb.fs.defs.speech_to_text import get_text\n",
    "import rogue"
   ]
  },
  {
   "cell_type": "code",
   "execution_count": 31,
   "metadata": {},
   "outputs": [],
   "source": [
    "def preprocess(text):\n",
    "    new_text=''''''\n",
    "    for character in text:\n",
    "        new_text=new_text+character\n",
    "        if character==\".\":\n",
    "            new_text=new_text+\"\\n\"\n",
    "    return new_text"
   ]
  },
  {
   "cell_type": "code",
   "execution_count": 32,
   "metadata": {},
   "outputs": [],
   "source": [
    "def evaluate_audio_summaries():\n",
    "    my_summaries=[]\n",
    "    bert_summaries=[]\n",
    "    bart_summaries=[]\n",
    "    gpt2_summaries=[]\n",
    "    for i in range(5,8):\n",
    "        m1 = open(\"/Users/shreyabanerjee/Summarizer/Audio/human_written_summary/summary\"+str(i)+\".txt\",\"r\")\n",
    "        summary=m1.read()\n",
    "        my_summaries.append(summary)\n",
    "        f = open(\"/Users/shreyabanerjee/Summarizer/Audio/Text/output\"+str(i)+\".txt\",\"r\")\n",
    "        text=f.read()\n",
    "        \n",
    "        print(\"\\nHuman written summary \\n\",summary)\n",
    "        \n",
    "        print(\"\\nSummarizing articles from audio \"+str(i)+\" using BART model\\n\")\n",
    "        s1=bart(text)\n",
    "        bart_summaries.append(s1)\n",
    "        print(\"BART summary\\n\",s1)\n",
    "        \n",
    "        print(\"\\nSummarizing articles from audio \"+str(i)+\" using BERT model\\n\")\n",
    "        new_text=preprocess(text)\n",
    "        s2=bert(new_text)\n",
    "        bert_summaries.append(s2)\n",
    "        print(\"BERT summary\\n\",s2)\n",
    "    \n",
    "        print(\"\\nSummarizing articles from audio \"+str(i)+\" using GPT2 model\\n\")\n",
    "        s3=gpt2(new_text)\n",
    "        gpt2_summaries.append(s3)\n",
    "        print(\"GPT2 summary\\n\",s3)\n",
    "    \n",
    "    print(\"Score for BART summary\")\n",
    "    results_bart=get_score(bart_summaries,my_summaries)\n",
    "    print(\"Score for BERT summary\")\n",
    "    results_bert=get_score(bert_summaries,my_summaries)\n",
    "    print(\"Score for GPT2 summary\")\n",
    "    results_gpt2=get_score(gpt2_summaries,my_summaries)\n",
    "    return results_bert,results_bart,results_gpt2"
   ]
  },
  {
   "cell_type": "code",
   "execution_count": 33,
   "metadata": {},
   "outputs": [
    {
     "name": "stdout",
     "output_type": "stream",
     "text": [
      "\n",
      "Human written summary \n",
      " Obama says he comes from compound family in Chicago in which there are long record of these kind of actions.Obama was raised in such kind of circumstances.He didnt anticipate to speak today but for the importance of safe bank issues.Later when he was doing elections the morning a women came up who helped him in account bank,a hand shake took place and took obama took a photograph which she didnt ask and later tells that the women Marie Lewis born in Louisiana. she being born in a poor family ensured that she participated in all democracy related activities and her granchildren should be in a position in which they could to call themselves services related space and make certain that this government works now.Waycross was convinced by fact that she took multiple decisions and always counted but in the selection was of supreme importance.He was also more focused for seperation of election outcome with election process and realised every vote counts when he was not in election process. He also  would urged bad missed chamber as well as the house of representatives that take it upon .if self once and for all to reform the system there is no reason at a time when we have enormous balance taking place ideologically all across the globe at a time when we're trying to make certain that we increase the micro sim arrives and if you have a sense in other places throughout the world there we have the legitimacy of our elections challenged are rightly or wrongly.He also urges that in situation where many voters have stood in a long line and there was much jam,malfunction on roads and asks them not to do it.to put partisan replaceable political interest ahead of the public in administrative or elections in such circumstances we have an obligation to fix the problem .He ends by reminding again about these kind of problems he faced in Chicago and asked to use the tentative time is expired to a members properly thanks .\n",
      "\n",
      "Summarizing articles from audio 5 using BART model\n",
      "\n",
      "BART summary\n",
      " I would ask that I was raised up and use the tentative time is expired to a members property thanks .thank you very much Mr president a .we've got me on Saturday I have to say that I didn't anticipate speaking today but the important safe bank of this issue is one in which I feel it's important for me to dress .this morning. I was not in this party for years ago I bought what I observed as a voter as a citizen of Illinois .four years ago old worth troubling evidence of the fact that that every vote was being counted .I think that it is unfortunate for years later that we continue to speed circumstances in which people who believe that they have the right to bolt who show up at the polls still continue to confront the port of problems.\n",
      "\n",
      "Summarizing articles from audio 5 using BERT model\n",
      "\n",
      "BERT summary\n",
      " I have to add that this is not a problem you need to personal action and it is not a problem problem keep in mind I come from compound again from Chicago in which there is a long record of these kinds of problems taking place and disadvantage Republicans as well separate so I would ask that I was raised up and use the tentative time is expired to a members property thanks . a woman who had supported me in my account bank and she decided to come . the name was Marie Lewis after mereka woman who had been born in Louisiana . and yes already course of jackets she had participated in writing or democracy and ensuring that in fact I have some points out if not herself and her children and grandchildren enter a great great grandchildren would be in a position in which they could to call themselves services related space and make certain that this government works now just on behalf of the mighty and the powerful but also told on behalf of people Waycross R.\n",
      " M.\n",
      " sold the fact that she multiple and then home always counted but in the selection was of supreme importance to horror and .\n",
      "\n",
      "Summarizing articles from audio 5 using GPT2 model\n",
      "\n"
     ]
    },
    {
     "name": "stderr",
     "output_type": "stream",
     "text": [
      "Some weights of GPT2Model were not initialized from the model checkpoint at gpt2-medium and are newly initialized: ['h.0.attn.masked_bias', 'h.1.attn.masked_bias', 'h.2.attn.masked_bias', 'h.3.attn.masked_bias', 'h.4.attn.masked_bias', 'h.5.attn.masked_bias', 'h.6.attn.masked_bias', 'h.7.attn.masked_bias', 'h.8.attn.masked_bias', 'h.9.attn.masked_bias', 'h.10.attn.masked_bias', 'h.11.attn.masked_bias', 'h.12.attn.masked_bias', 'h.13.attn.masked_bias', 'h.14.attn.masked_bias', 'h.15.attn.masked_bias', 'h.16.attn.masked_bias', 'h.17.attn.masked_bias', 'h.18.attn.masked_bias', 'h.19.attn.masked_bias', 'h.20.attn.masked_bias', 'h.21.attn.masked_bias', 'h.22.attn.masked_bias', 'h.23.attn.masked_bias']\n",
      "You should probably TRAIN this model on a down-stream task to be able to use it for predictions and inference.\n"
     ]
    },
    {
     "name": "stdout",
     "output_type": "stream",
     "text": [
      "GPT2 summary\n",
      " I have to add that this is not a problem you need to personal action and it is not a problem problem keep in mind I come from compound again from Chicago in which there is a long record of these kinds of problems taking place and disadvantage Republicans as well separate so I would ask that I was raised up and use the tentative time is expired to a members property thanks . it was an unexceptional moment except for the fact that she was born in eighteen ninety four . the present you as safe George bush won the election . I also believe that he got more involved in a higher .\n",
      "\n",
      "Human written summary \n",
      " Obama rememnering Rosa Perk who laid her life in role of Detroit.To refresh few of her achievements, Rosa Parks laid a foundation for the country that was creative for life which made him stand up for truth and hate of the American experience that our greatness as a nation derives from seemingly ordinary people doing extraordinary.She lived in a small town of Albama and attended one room school for african American children and then moved to  Montgomery Alabama to continue her schooling she was forced to clean classrooms after score to pay your tuition.After this struggle Rosa Parks was appointed as secretary of gumtree branch.the summer of nineteen fifty five she attended the Highlander folk school where she took classes in workers rights and racial equality.nineteen fifty five when she was arrested for refusing to give up received to wait passenger on a Montgomery bus .but what's not none of well known is that it wasn't the first time Rosa Parks refused to acquiesce to the gym processed.and in an example of a low keyed a minute for a job in congressman Conyers office did not involve appearances as a figurehead or celebrity she help homeless folks find housing.At seventy four,She also openend Raymond products institute for self development which offers education and job training programmes for disadvantaged children and she also gave some lectures.At age of eighty six Rosa Parks actions were recognised and was awarded highest honor by Bill Clinton.As we are life of rosa , we should always push ourself to come out and do better things which motivates the society and inspires people.Rosa Parks also said the as long ther is unemploymentwar crime ,inflextion of man inhumanity to man,people need to do much more and work together.I would not stand here before you today .I always heard great banks ours does the nation she will be sorely missed .thank you Mr President said \n",
      "\n",
      "Summarizing articles from audio 6 using BART model\n",
      "\n",
      "BART summary\n",
      " Rosa Parks helped lay the foundation for a country that could begin to live up to its creative .for life and a brave actions reminded each and everyone of us and my personal responsibility .to stand up for what's rate .and the central truth of the American experience that our greatness as a nation derives from seemingly ordinary people doing extraordinary thanks .well the box life was a lesson in perseverance .as a child she grew up listening to the cook likes plan right by her house fearing that our house would be broken down .in a small town in Alabama she attended a one room school for African American children that only went through the second grade.when she moved to Montgomery Alabama to continue her schooling she was forced to clean classrooms after score to pay your tuition. Although she attended Alabama state teachers college Rosa Parks would like later make a living as a seems stress and housekeeper.\n",
      "\n",
      "Summarizing articles from audio 6 using BERT model\n",
      "\n",
      "BERT summary\n",
      " as most of you know Rosa Parks died yesterday in a role in Detroit . as a child she grew up listening to the cook likes plan right by her house fearing that our house would be broken down . although she attended Alabama state teachers college Rosa Parks would like later make a living as a seems stress and housekeeper my chi didn't accept better opportunities were limited to sign clothes or cleaning house . of course %HESITATION name became probably actually in American history on December first nineteen fifty five when she was arrested for refusing to give up received to wait passenger on a Montgomery bus . most parts once said the only tired I was was tired of giving it . instead let us come out to carry on replaced once sold very active time and ensure that our passion continues to expose inspires a better half century ago . bad in my view is how we can best banker for amounts cards revisions to our country .\n",
      "\n",
      "Summarizing articles from audio 6 using GPT2 model\n",
      "\n"
     ]
    },
    {
     "name": "stderr",
     "output_type": "stream",
     "text": [
      "Some weights of GPT2Model were not initialized from the model checkpoint at gpt2-medium and are newly initialized: ['h.0.attn.masked_bias', 'h.1.attn.masked_bias', 'h.2.attn.masked_bias', 'h.3.attn.masked_bias', 'h.4.attn.masked_bias', 'h.5.attn.masked_bias', 'h.6.attn.masked_bias', 'h.7.attn.masked_bias', 'h.8.attn.masked_bias', 'h.9.attn.masked_bias', 'h.10.attn.masked_bias', 'h.11.attn.masked_bias', 'h.12.attn.masked_bias', 'h.13.attn.masked_bias', 'h.14.attn.masked_bias', 'h.15.attn.masked_bias', 'h.16.attn.masked_bias', 'h.17.attn.masked_bias', 'h.18.attn.masked_bias', 'h.19.attn.masked_bias', 'h.20.attn.masked_bias', 'h.21.attn.masked_bias', 'h.22.attn.masked_bias', 'h.23.attn.masked_bias']\n",
      "You should probably TRAIN this model on a down-stream task to be able to use it for predictions and inference.\n"
     ]
    },
    {
     "name": "stdout",
     "output_type": "stream",
     "text": [
      "GPT2 summary\n",
      " today the nation more and so genuine American here on . as most of you know Rosa Parks died yesterday in a role in Detroit . in the summer of nineteen fifty five she attended the Highlander folk school where she took classes in workers rights and racial equality . but what's not none of well known is that it wasn't the first time Rosa Parks refused to acquiesce to the gym processed . the same must rub %HESITATION had a address arrested . some school children atop the roles approached refused to give up received because I think we're tired . this solitary act of civil disobedience was also the spark that ignited the beginning of the app for segregation and inspired millions around the country and ultimately around the world to get involved in the fight for racial equality . bad quiet moment of courage my most products . I would not stand here before you today .\n",
      "\n",
      "Human written summary \n",
      " United States President make sure walk away of crisis as theyve done it before and tells that theyll succeed again.He stated they are facing economic crisis of historic proportions as their financial market are down.There were half of million jobless people because of this.The President stress on moving forward in new direction to create new jobs in order to increase the economy by bringing together best minds in America.He bought leaders who could offer both down judgement and fresh thank both a depth of experience and a wealth of bold new ideas and most of all to share my fundamental belief that we cannot have a thriving Wall Street without a thriving means for that in this country we rise or fall as one nation as one people.He further announces the nomination Timothy gave it at that's very appropriate .warranty someone out of the director of our national economic council .resume aroma as chair of the council of economic advisers and Melty Barnes as director of domestic of the domestic policy council .having served as the roles at treasury .the reality is that the economic crisis we face was no longer just an American crates it's a global crates and we will need to recharge the countries around the world to cloud craft well response then the extensive international experience make them uniquely suited to do that work rang up currently an African having lived and worked throughout Asia having served as undersecretary of the treasury for international affairs one of the many roles in the international arena and having started by changes in Japanese to understand the language of today's international markets in more ways than one .The secretery brings a particular combination of skill intellect and experience to the role he will play in our administration .as undersecretary deputy secretary .then secretary of the treasury let me help guide us through several major international financial crazies and what these pencil or get back to the policy of the legible longest economic expansion in American history.one of the great economic minds of our time Larry has earned a global reputation for being able to cut to the heart of the most complex and novel policy challenges with respect to both our current financial crisis and other pressing economic issues of our time is banking rating M.next nominee Christina Romer will bring a critically needed perspective to work as chair of my council of economic advisors resume as both a leading mackerel .is .what a leading macro economist any leading economic storey wraps best known for a work on America's recovery from the Great Depression and robust economic expansion the fault sense two thousand and three she's been called Recker of the national bureau of economic research monetary economics programme.she's also a member of the bureau of business local feeding committing the body charged with officially determination whether it was person has started and ended experience which will serve a well issue visors me on our current economic challenges.With these appointments Obama is sure that the economy will rebuild and will require action on great variety of front.Let it be education,healthcare ,energy,social security the growth can be spread without any politics in it.He is also pleased to introduce the expert in policy appointed as his Director of domestic policy council who will chart a course to economic recovery  and in regard part of that course will be health care reform and she will work closely with my factory of health and Human Services on that issue .at the centre for American progress Melty directed the network of policy experts dedicated to finding solutions for struggling middle class families she also served as chief counsel for the great than repaired Kennedy on the feet of manager issue recommending working on issues ranging from crime they migration to bankruptcy and fighting tirelessly to protect the weights women's rights and religious freedom .He is also happy of Larry Christina and Melty of accepted his nomination and their works start right now without wasting much time.he time well on Wall Street means in a round of belt tightening for families and businesses on main street and it's fox produced less and consume less about just beeping the problems in our financial markets is extraordinary stresses on our financial system require extraordinary policy responses in my administration will honour the public commitments made by the current administration to address this place.there is also a recovery plan for both Wall Street and main street a plan that's people opens our financial system and get credit flowing again while at the same time addressing or drawing for closure process helping or struggling auto industry and creating and saving two point five million jobs jobs rebuilding our infrastructure our roads our bridges modernising our schools and creating the clean energy infrastructure of the twenty first century because of this moment we need to restore both carpet is in the market and restore a car for them so of middle class families will find themselves working harder running west and falling further and further behind .the economic team will recommend developemnt plans and compete with current risk for immediate developement in next two months by keeping a continous check by President and reporting matters to them evry time and this will begin in January.He included all these actins coz he didnt want all this to pile up i.e bills,spend lifetime of savings etc.He also informs that it is not a easy journey,there are no shortcuts or anything and need to have scour our federal budget line by line and make meaningful cuts and sacrifices as well something to be discussed further tomorrow.Inspite all of this he is hopeful about the future of companies,newly appointed economic team who are under full spirit and believes to make the way out of crisis and he ends his speech by saying that if we put the blood products and shipping politics and work together that's exactly what I intend billed as president of the United States .\n",
      "\n",
      "Summarizing articles from audio 7 using BART model\n",
      "\n",
      "BART summary\n",
      " I know we can work our way out of this crisis because we've done it before and I know we will succeed once again if we put the blood products and shipping politics and work together. I bought leaders who could offer both down judgement and fresh thank both a depth of experience and a wealth of bold new ideas and most of all to share my fundamental belief that we cannot have a thriving Wall Street without a thriving means for that in this country we rise or fall as one nation as one people. With stellar performances not standing result at every stage of his career term has already become evidence in respect of business financial and community leaders members of Congress and political leaders around the world. I like to him most published also brings a particular combination of skill intellect and experience to the role he will play in our administration. As undersecretary deputy secretary and then secretary of the treasury let me help guide us through several major international financial crazies and what these pencil or get back to the policy of the legible longest economic expansion in American history would record supplied does raising family incomes and more than twenty million new jobs he also championed range of mattress from tax credit and hands lending programmes to consumer financial protections. The five metre merry has bridged up to confront the problems of income inequality and middle class squeeze compassionately arguing that the Q. two weeks from the car to me is a strong vibrant growing middle class this idea is at the core of my own economic for after fifty and will be the foundation of all of my economic policies and is one of the great economic minds of our time.\n",
      "\n",
      "Summarizing articles from audio 7 using BERT model\n",
      "\n"
     ]
    },
    {
     "name": "stdout",
     "output_type": "stream",
     "text": [
      "BERT summary\n",
      " and the spirit of this make sure I know we can work our way out of this crisis because we've done it before and I know we will succeed once again if we put the blood products and shipping politics and work together that's exactly what I intend billed as president of the United States . someone that's very of the termination and after minimum that is always defined . warranty someone out of the director of our national economic council . the reality is that the economic crisis we face was no longer just an American crates it's a global crates and we will need to recharge the countries around the world to cloud craft well response then the extensive international experience make them uniquely suited to do that work rang up currently an African having lived and worked throughout Asia having served as undersecretary of the treasury for international affairs one of the many roles in the international arena and having started by changes in Japanese to understand the language of today's international markets in more ways than one . finally we know about rebuilding our economy will require action on a great variety of front . I'm grateful the term Larry Christina and Melty of accepted my nomination and I'm looking forward to working closely with them in the months ahead . the time well on Wall Street means in a round of belt tightening for families and businesses on main street and it's fox produced less and consume less about just beeping the problems in our financial markets is extraordinary stresses on our financial system require extraordinary policy responses in my administration will honour the public commitments made by the current administration to address this place .\n",
      "\n",
      "Summarizing articles from audio 7 using GPT2 model\n",
      "\n"
     ]
    },
    {
     "name": "stderr",
     "output_type": "stream",
     "text": [
      "Some weights of GPT2Model were not initialized from the model checkpoint at gpt2-medium and are newly initialized: ['h.0.attn.masked_bias', 'h.1.attn.masked_bias', 'h.2.attn.masked_bias', 'h.3.attn.masked_bias', 'h.4.attn.masked_bias', 'h.5.attn.masked_bias', 'h.6.attn.masked_bias', 'h.7.attn.masked_bias', 'h.8.attn.masked_bias', 'h.9.attn.masked_bias', 'h.10.attn.masked_bias', 'h.11.attn.masked_bias', 'h.12.attn.masked_bias', 'h.13.attn.masked_bias', 'h.14.attn.masked_bias', 'h.15.attn.masked_bias', 'h.16.attn.masked_bias', 'h.17.attn.masked_bias', 'h.18.attn.masked_bias', 'h.19.attn.masked_bias', 'h.20.attn.masked_bias', 'h.21.attn.masked_bias', 'h.22.attn.masked_bias', 'h.23.attn.masked_bias']\n",
      "You should probably TRAIN this model on a down-stream task to be able to use it for predictions and inference.\n"
     ]
    },
    {
     "name": "stdout",
     "output_type": "stream",
     "text": [
      "GPT2 summary\n",
      " and the spirit of this make sure I know we can work our way out of this crisis because we've done it before and I know we will succeed once again if we put the blood products and shipping politics and work together that's exactly what I intend billed as president of the United States . we know this won't be easy it won't happen overnight . Timothy gave it at that's very appropriate . resume aroma as chair of the council of economic advisers and Melty Barnes as director of domestic of the domestic policy council . having served as the roles at treasury V.\n",
      " item out and the New York fed term going on offers not just extensive experience shaping economic policy and managing financial markets he also has an unparalleled understanding of our current economic rates was in all of its value complexity and registered family always not time getting up to speed you will sorry his first day on the job with a Nick inflated the failures of today's markets and a clear vision of the steps we must take to revive them . with stellar performances not standing result at every stage of his career term has already become evidence in respect of business financial and community leaders members of Congress and political leaders around the world and I know he will do so once again as America's next treasury secretary the chief economic spokesman for my administration . that work starts today because the truth is we do not have a minute to waste .\n",
      "Score for BART summary\n",
      "ROUGE-2\n",
      "\n",
      "F: 0.21697923246607975  R: 0.2144171584491402  P: 0.21960784313725493\n",
      "\n",
      "ROUGE-3\n",
      "\n",
      "F: 0.16943664273051817  R: 0.1672814340257555  P: 0.17165049838317167\n",
      "\n",
      "ROUGE-4\n",
      "\n",
      "F: 0.14765747931577078  R: 0.1457095709570957  P: 0.14965986394557823\n",
      "\n",
      "ROUGE-1\n",
      "\n",
      "F: 0.42909178281893645  R: 0.4246950460542694  P: 0.4335928738504918\n",
      "\n",
      "ROUGE-L\n",
      "\n",
      "F: 0.3692665814231669  R: 0.36596427856982233  P: 0.3726361784364904\n",
      "\n",
      "ROUGE-W\n",
      "\n",
      "F: 0.13875839189724745  R: 0.09618977807881479  P: 0.24892542931365322\n",
      "\n",
      "Score for BERT summary\n",
      "ROUGE-2\n",
      "\n",
      "F: 0.09308900825968924  R: 0.09080525414049116  P: 0.09549828178694159\n",
      "\n",
      "ROUGE-3\n",
      "\n",
      "F: 0.033569526106839546  R: 0.032679738562091505  P: 0.034511784511784514\n",
      "\n",
      "ROUGE-4\n",
      "\n",
      "F: 0.01695552592896455  R: 0.016501650165016504  P: 0.01743644826351593\n",
      "\n",
      "ROUGE-1\n",
      "\n",
      "F: 0.3554483879403594  R: 0.3472118496390341  P: 0.36411396241664984\n",
      "\n",
      "ROUGE-L\n",
      "\n",
      "F: 0.2580010855560289  R: 0.2529634046708085  P: 0.2632581021997739\n",
      "\n",
      "ROUGE-W\n",
      "\n",
      "F: 0.07539767026363839  R: 0.05189812361576607  P: 0.13780421574250132\n",
      "\n",
      "Score for GPT2 summary\n",
      "ROUGE-2\n",
      "\n",
      "F: 0.08308801808715167  R: 0.08100133257186369  P: 0.08529209621993128\n",
      "\n",
      "ROUGE-3\n",
      "\n",
      "F: 0.033569526106839546  R: 0.032679738562091505  P: 0.034511784511784514\n",
      "\n",
      "ROUGE-4\n",
      "\n",
      "F: 0.01695552592896455  R: 0.016501650165016504  P: 0.01743644826351593\n",
      "\n",
      "ROUGE-1\n",
      "\n",
      "F: 0.33889747911813384  R: 0.33109285536470007  P: 0.34710715969556144\n",
      "\n",
      "ROUGE-L\n",
      "\n",
      "F: 0.23986319979458312  R: 0.23526415640936837  P: 0.2446601063988596\n",
      "\n",
      "ROUGE-W\n",
      "\n",
      "F: 0.07021600608632698  R: 0.048340656666292725  P: 0.12826982344664353\n",
      "\n"
     ]
    }
   ],
   "source": [
    "results_bert,results_bart,results_gpt2=evaluate_audio_summaries()"
   ]
  },
  {
   "cell_type": "code",
   "execution_count": null,
   "metadata": {},
   "outputs": [],
   "source": []
  }
 ],
 "metadata": {
  "kernelspec": {
   "display_name": "Python 3",
   "language": "python",
   "name": "python3"
  },
  "language_info": {
   "codemirror_mode": {
    "name": "ipython",
    "version": 3
   },
   "file_extension": ".py",
   "mimetype": "text/x-python",
   "name": "python",
   "nbconvert_exporter": "python",
   "pygments_lexer": "ipython3",
   "version": "3.8.5"
  }
 },
 "nbformat": 4,
 "nbformat_minor": 4
}
