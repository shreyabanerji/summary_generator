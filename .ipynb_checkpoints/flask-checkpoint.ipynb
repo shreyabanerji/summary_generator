{
 "cells": [
  {
   "cell_type": "code",
   "execution_count": 1,
   "metadata": {},
   "outputs": [
    {
     "name": "stderr",
     "output_type": "stream",
     "text": [
      "[nltk_data] Downloading package stopwords to\n",
      "[nltk_data]     /Users/shreyabanerjee/nltk_data...\n",
      "[nltk_data]   Package stopwords is already up-to-date!\n"
     ]
    }
   ],
   "source": [
    "import numpy as np\n",
    "import tensorflow as tf\n",
    "import sys\n",
    "import rouge\n",
    "import re\n",
    "import nltk\n",
    "nltk.download('stopwords')\n",
    "from nltk.corpus import stopwords \n",
    "from nltk.tokenize import word_tokenize \n",
    "import os\n",
    "from gtts import gTTS \n",
    "from pathlib import Path\n",
    "import appdirs\n",
    "import gdown\n",
    "import torch\n",
    "import logging\n",
    "from transformers import BartTokenizer, BartForConditionalGeneration, BartConfig\n",
    "from summarizer import Summarizer\n",
    "from summarizer import TransformerSummarizer\n",
    "from flask import *\n",
    "from ibm_watson import SpeechToTextV1\n",
    "from ibm_watson.websocket import RecognizeCallback, AudioSource \n",
    "from ibm_cloud_sdk_core.authenticators import IAMAuthenticator\n",
    "from bs4 import BeautifulSoup\n",
    "from ipynb.fs.defs.final import summarize"
   ]
  },
  {
   "cell_type": "code",
   "execution_count": 2,
   "metadata": {},
   "outputs": [
    {
     "ename": "SyntaxError",
     "evalue": "unmatched ')' (<ipython-input-2-899f424b6ddc>, line 41)",
     "output_type": "error",
     "traceback": [
      "\u001b[0;36m  File \u001b[0;32m\"<ipython-input-2-899f424b6ddc>\"\u001b[0;36m, line \u001b[0;32m41\u001b[0m\n\u001b[0;31m    final_summary_1=summarize(path,\"audio\",upper(form_data1)),\"summary_audio_\"+form_data)\u001b[0m\n\u001b[0m                                                                                        ^\u001b[0m\n\u001b[0;31mSyntaxError\u001b[0m\u001b[0;31m:\u001b[0m unmatched ')'\n"
     ]
    }
   ],
   "source": [
    "\n",
    "app = Flask(__name__,template_folder='/Users/shreyabanerjee/Summarizer/templates')\n",
    "@app.route('/')\n",
    "def home():\n",
    "    return render_template('main.html')\n",
    "@app.route('/multi')\n",
    "def multi():\n",
    "    return render_template('multi.html')\n",
    "\n",
    "@app.route('/audio')\n",
    "def audio():\n",
    "    return render_template('audio.html')\n",
    "\n",
    "@app.route('/summary')\n",
    "def summary():\n",
    "    return render_template('zip_files.html')\n",
    "\n",
    "@app.route('/multi', methods = ['POST', 'GET'])\n",
    "def data1():\n",
    "    if request.method == 'GET':\n",
    "        return f\"The URL/data is accessed directly. Try going to '/form' to submit form\"\n",
    "    if request.method == 'POST':\n",
    "        form_data = request.form.get(\"cars\")\n",
    "        form_data1 = request.form.get(\"method\")\n",
    "        path=\"/Users/shreyabanerjee/Summarizer/multiple_docs/news/Topic\"+form_data\n",
    "        print(form_data1,\"\\n\")\n",
    "        final_summary_1=summarize(path,\"multiple_text_documents\",form_data1,\"summary_multi_\"+form_data)\n",
    "        print(final_summary_1)\n",
    "        return final_summary_1\n",
    "\n",
    "    \n",
    "\n",
    "@app.route('/audio', methods = ['POST', 'GET'])\n",
    "def data2():\n",
    "    if request.method == 'GET':\n",
    "        return f\"The URL/data is accessed directly. Try going to '/form' to submit form\"\n",
    "    if request.method == 'POST':\n",
    "        form_data = request.form.get(\"cars\")\n",
    "        form_data1 = request.form.get(\"method\")\n",
    "        path=\"/Users/shreyabanerjee/Summarizer/Audio/Input/audio\"+form_data+\".mp3\"\n",
    "        print(form_data_1,\"\\n\")\n",
    "        final_summary_1=summarize(path,\"audio\",form_data1,\"summary_audio_\"+form_data)\n",
    "        return final_summary_1\n",
    "\n",
    "\n",
    "@app.route('/', methods = ['POST', 'GET'])\n",
    "def data():\n",
    "    if request.method == 'GET':\n",
    "        return f\"The URL/data is accessed directly. Try going to '/form' to submit form\"\n",
    "    if request.method == 'POST':\n",
    "        form_data = request.form.get(\"fname\")\n",
    "        if (form_data == \"multi\"):\n",
    "            return redirect(url_for(\"multi\"))\n",
    "        else:\n",
    "            return redirect(url_for(\"audio\"))\n",
    " \n",
    "if __name__ == '__main__':\n",
    "   app.run()"
   ]
  },
  {
   "cell_type": "code",
   "execution_count": null,
   "metadata": {},
   "outputs": [],
   "source": []
  }
 ],
 "metadata": {
  "kernelspec": {
   "display_name": "Python 3",
   "language": "python",
   "name": "python3"
  },
  "language_info": {
   "codemirror_mode": {
    "name": "ipython",
    "version": 3
   },
   "file_extension": ".py",
   "mimetype": "text/x-python",
   "name": "python",
   "nbconvert_exporter": "python",
   "pygments_lexer": "ipython3",
   "version": "3.8.5"
  },
  "metadata": {
   "interpreter": {
    "hash": "31f2aee4e71d21fbe5cf8b01ff0e069b9275f58929596ceb00d14d90e3e16cd6"
   }
  }
 },
 "nbformat": 4,
 "nbformat_minor": 2
}
