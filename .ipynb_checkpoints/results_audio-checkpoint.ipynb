{
 "cells": [
  {
   "cell_type": "code",
   "execution_count": 1,
   "metadata": {},
   "outputs": [
    {
     "ename": "IndentationError",
     "evalue": "expected an indented block (<unknown>, line 95)",
     "output_type": "error",
     "traceback": [
      "Traceback \u001b[0;36m(most recent call last)\u001b[0m:\n",
      "  File \u001b[1;32m\"/opt/anaconda3/lib/python3.8/site-packages/IPython/core/interactiveshell.py\"\u001b[0m, line \u001b[1;32m3418\u001b[0m, in \u001b[1;35mrun_code\u001b[0m\n    exec(code_obj, self.user_global_ns, self.user_ns)\n",
      "  File \u001b[1;32m\"<ipython-input-1-5b909a9200d7>\"\u001b[0m, line \u001b[1;32m4\u001b[0m, in \u001b[1;35m<module>\u001b[0m\n    from ipynb.fs.defs.multiple import cosine_similarity\n",
      "  File \u001b[1;32m\"<frozen importlib._bootstrap>\"\u001b[0m, line \u001b[1;32m991\u001b[0m, in \u001b[1;35m_find_and_load\u001b[0m\n",
      "  File \u001b[1;32m\"<frozen importlib._bootstrap>\"\u001b[0m, line \u001b[1;32m975\u001b[0m, in \u001b[1;35m_find_and_load_unlocked\u001b[0m\n",
      "  File \u001b[1;32m\"<frozen importlib._bootstrap>\"\u001b[0m, line \u001b[1;32m671\u001b[0m, in \u001b[1;35m_load_unlocked\u001b[0m\n",
      "  File \u001b[1;32m\"<frozen importlib._bootstrap_external>\"\u001b[0m, line \u001b[1;32m779\u001b[0m, in \u001b[1;35mexec_module\u001b[0m\n",
      "  File \u001b[1;32m\"/opt/anaconda3/lib/python3.8/site-packages/ipynb/fs/defs/__init__.py\"\u001b[0m, line \u001b[1;32m46\u001b[0m, in \u001b[1;35mget_code\u001b[0m\n    filter_ast(ast.parse(code_from_ipynb(nb))),\n",
      "\u001b[0;36m  File \u001b[0;32m\"/opt/anaconda3/lib/python3.8/ast.py\"\u001b[0;36m, line \u001b[0;32m47\u001b[0;36m, in \u001b[0;35mparse\u001b[0;36m\u001b[0m\n\u001b[0;31m    return compile(source, filename, mode, flags,\u001b[0m\n",
      "\u001b[0;36m  File \u001b[0;32m\"<unknown>\"\u001b[0;36m, line \u001b[0;32m95\u001b[0m\n\u001b[0;31m    l=l+1\u001b[0m\n\u001b[0m    ^\u001b[0m\n\u001b[0;31mIndentationError\u001b[0m\u001b[0;31m:\u001b[0m expected an indented block\n"
     ]
    }
   ],
   "source": [
    "from ipynb.fs.defs.bbc_gpt2_all import gpt2\n",
    "from ipynb.fs.defs.bbc_bert1_all import bert\n",
    "from ipynb.fs.defs.bbc_bart1_all import bart\n",
    "from ipynb.fs.defs.multiple import cosine_similarity\n",
    "from ipynb.fs.defs.multiple import jaccard_similarity\n",
    "from ipynb.fs.defs.multiple import get_processed_text\n",
    "from ipynb.fs.defs.results_mutiple_docs import get_score\n",
    "from ipynb.fs.defs.speech_to_text import get_text\n",
    "import rogue"
   ]
  },
  {
   "cell_type": "code",
   "execution_count": null,
   "metadata": {},
   "outputs": [],
   "source": [
    "def evaluate_audio_summaries():\n",
    "    my_summaries=[]\n",
    "    bert_summaries=[]\n",
    "    bart_summaries=[]\n",
    "    gpt2_summaries=[]\n",
    "    for i in range(5,8):\n",
    "        m1 = open(\"/Users/shreyabanerjee/Summarizer/Audio/human_written_summary/summary\"+str(i)+\".txt\",\"r\")\n",
    "        summary=m1.read()\n",
    "        my_summaries.append(summary)\n",
    "        f = open(\"/Users/shreyabanerjee/Summarizer/Audio/Text/output\"+str(i)+\".txt\",\"r\")\n",
    "        text=f.read()\n",
    "        print(\"\\nHuman written summary \\n\",summary)\n",
    "        print(\"\\nSummarizing articles from audio \"+str(i)+\" using BART model\\n\")\n",
    "        s1=bart(text)\n",
    "        bart_summaries.append(s1)\n",
    "        print(\"BART summary\\n\",s1)\n",
    "        \n",
    "        print(\"\\nSummarizing articles from audio \"+str(i)+\" using BART model\\n\")\n",
    "        s2=bert(text)\n",
    "        bart_summaries.append(s2)\n",
    "        print(\"BART summary\\n\",s2)\n",
    "    \n",
    "        \n",
    "        print(\"\\nSummarizing articles from audio \"+str(i)+\" using GPT2 model\\n\")\n",
    "        s3=gpt2(text)\n",
    "        gpt2_summaries.append(s3)\n",
    "        print(\"GPT2 summary\\n\",s3)\n",
    "        #print(\"Score for GPT2 summary\",get_score(gpt2_summary,my_summary))\n",
    "    \n",
    "    print(\"Score for BART summary\")\n",
    "    get_score(bart_summaries,my_summaries)\n",
    "    print(\"Score for BERT summary\")\n",
    "    get_score(bert_summaries,my_summaries)\n",
    "    print(\"Score for GPT2 summary\")\n",
    "    get_score(gpt2_summaries,my_summaries)\n",
    "    return results_bert,results_bart,results_gpt2"
   ]
  },
  {
   "cell_type": "code",
   "execution_count": null,
   "metadata": {},
   "outputs": [],
   "source": [
    "evaluate_audio_summaries()"
   ]
  },
  {
   "cell_type": "code",
   "execution_count": null,
   "metadata": {},
   "outputs": [],
   "source": []
  }
 ],
 "metadata": {
  "kernelspec": {
   "display_name": "Python 3",
   "language": "python",
   "name": "python3"
  }
 },
 "nbformat": 4,
 "nbformat_minor": 4
}
