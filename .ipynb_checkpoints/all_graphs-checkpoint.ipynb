{
 "cells": [
  {
   "cell_type": "code",
   "execution_count": 9,
   "metadata": {},
   "outputs": [],
   "source": [
    "import numpy as np\n",
    "import matplotlib.pyplot as plt\n",
    "import pandas as pd\n",
    "import rouge"
   ]
  },
  {
   "cell_type": "code",
   "execution_count": 1,
   "metadata": {},
   "outputs": [],
   "source": [
    "def get_results(summarizer,folder,start,end):\n",
    "    all_hypothesis = []\n",
    "    all_references = []\n",
    "    for i in range(start,end):\n",
    "          num=str(i)\n",
    "          if(len(num)==1):\n",
    "                num='0'+'0'+num\n",
    "          elif(len(num)==2):\n",
    "                num='0'+num\n",
    "          r=open(\"/Users/shreyabanerjee/Summarizer/BBC News Summary/Summaries/\"+folder+\"/\"+num+\".txt\", \"r\")\n",
    "          reference=r.read()\n",
    "          all_references.append(reference)\n",
    "          h= open(\"/Users/shreyabanerjee/Summarizer/BBC News Summary/\"+summarizer+\"/\"+folder+\"/\"+num+\".txt\", \"r\")\n",
    "          hypothesis=h.read()\n",
    "          all_hypothesis.append(hypothesis)\n",
    "    return all_hypothesis,all_references"
   ]
  },
  {
   "cell_type": "code",
   "execution_count": null,
   "metadata": {},
   "outputs": [],
   "source": []
  },
  {
   "cell_type": "code",
   "execution_count": 2,
   "metadata": {},
   "outputs": [],
   "source": [
    "import sklearn.metrics as metric\n",
    "def get_score(all_hypothesis, all_references):\n",
    "    apply_avg = 'Avg'\n",
    "    evaluator = rouge.Rouge(metrics=['rouge-n', 'rouge-l', 'rouge-w'],\n",
    "                               max_n=4,\n",
    "                               limit_length=True,\n",
    "                               length_limit=100,\n",
    "                               length_limit_type='words',\n",
    "                               apply_avg=apply_avg,\n",
    "                               alpha=0.5, # Default F1_score\n",
    "                               weight_factor=1.2,\n",
    "                               stemming=True)\n",
    "    scores = evaluator.get_scores(all_hypothesis, all_references)\n",
    "    #print(scores)\n",
    "    for key,value in scores.items():\n",
    "        print(key.upper()+'\\n')\n",
    "        print(\"F: \"+str(value['f'])+\"  R: \"+str(value['r'])+\"  P: \"+str(value['p'])+\"\\n\")\n",
    "    return scores"
   ]
  },
  {
   "cell_type": "code",
   "execution_count": 16,
   "metadata": {},
   "outputs": [],
   "source": [
    "def draw_graph(results,model):\n",
    "    df = pd.DataFrame([['p','rouge-1',results['rouge-1']['p']],['p','rouge-2',results['rouge-2']['p']],['p','rouge-3',results['rouge-3']['p']],['r','rouge-1',results['rouge-1']['r']],\n",
    "                   ['r','rouge-2',results['rouge-2']['r']],['r','rouge-3',results['rouge-3']['r']]],columns=[model,'metric','val'])\n",
    "    df.pivot(model, \"metric\", \"val\").plot(kind='bar')\n",
    "    plt.show()"
   ]
  },
  {
   "cell_type": "code",
   "execution_count": 11,
   "metadata": {},
   "outputs": [
    {
     "name": "stdout",
     "output_type": "stream",
     "text": [
      "ROUGE-4\n",
      "\n",
      "F: 0.3567754315757471  R: 0.3103068775260924  P: 0.43285420714181566\n",
      "\n",
      "ROUGE-1\n",
      "\n",
      "F: 0.5485852121554948  R: 0.4824706322686857  P: 0.6537269702265736\n",
      "\n",
      "ROUGE-2\n",
      "\n",
      "F: 0.4049686501619386  R: 0.3536827114386218  P: 0.48767192499349\n",
      "\n",
      "ROUGE-3\n",
      "\n",
      "F: 0.3732885619360899  R: 0.32520614950559074  P: 0.4514598097562836\n",
      "\n",
      "ROUGE-L\n",
      "\n",
      "F: 0.4737969577108065  R: 0.42286286540448953  P: 0.5494589109165612\n",
      "\n",
      "ROUGE-W\n",
      "\n",
      "F: 0.1930962774731449  R: 0.12556492759740484  P: 0.43446026658936937\n",
      "\n"
     ]
    }
   ],
   "source": [
    "candidate_gpt2_business,reference_gpt2_business=get_results(\"Gpt2_Summaries\",\"business\",1,511)\n",
    "results_gpt2 = get_score(candidate_gpt2_business,reference_gpt2_business)"
   ]
  },
  {
   "cell_type": "code",
   "execution_count": 17,
   "metadata": {},
   "outputs": [
    {
     "data": {
      "image/png": "[encoded data removed]",
      "text/plain": [
       "<Figure size 432x288 with 1 Axes>"
      ]
     },
     "metadata": {
      "needs_background": "light"
     },
     "output_type": "display_data"
    }
   ],
   "source": [
    "draw_graph(results_gpt2,'gpt2')"
   ]
  },
  {
   "cell_type": "code",
   "execution_count": 19,
   "metadata": {},
   "outputs": [
    {
     "name": "stdout",
     "output_type": "stream",
     "text": [
      "ROUGE-4\n",
      "\n",
      "F: 0.3173061692109652  R: 0.2740415111937426  P: 0.39580511092004456\n",
      "\n",
      "ROUGE-1\n",
      "\n",
      "F: 0.513711872437754  R: 0.4490308340675888  P: 0.6267125577918853\n",
      "\n",
      "ROUGE-2\n",
      "\n",
      "F: 0.3632003891243103  R: 0.3151768693515823  P: 0.4484890826967956\n",
      "\n",
      "ROUGE-3\n",
      "\n",
      "F: 0.3324034194877118  R: 0.2876167551198056  P: 0.4127782402864315\n",
      "\n",
      "ROUGE-L\n",
      "\n",
      "F: 0.4519556034079308  R: 0.4002905162702853  P: 0.5355872750079056\n",
      "\n",
      "ROUGE-W\n",
      "\n",
      "F: 0.18096445672606534  R: 0.11720128130501045  P: 0.42112332629972554\n",
      "\n"
     ]
    }
   ],
   "source": [
    "candidate_bert_business,reference_bert_business=get_results(\"Bert_Summaries\",\"business\",1,511)\n",
    "results_bert = get_score(candidate_bert_business,reference_bert_business)"
   ]
  },
  {
   "cell_type": "code",
   "execution_count": 20,
   "metadata": {},
   "outputs": [
    {
     "data": {
      "image/png": "[encoded data removed]",
      "text/plain": [
       "<Figure size 432x288 with 1 Axes>"
      ]
     },
     "metadata": {
      "needs_background": "light"
     },
     "output_type": "display_data"
    }
   ],
   "source": [
    "draw_graph(results_bert,'bert')"
   ]
  },
  {
   "cell_type": "code",
   "execution_count": 24,
   "metadata": {},
   "outputs": [
    {
     "name": "stdout",
     "output_type": "stream",
     "text": [
      "ROUGE-4\n",
      "\n",
      "F: 0.2286312807862947  R: 0.2103458578233445  P: 0.2554597997778402\n",
      "\n",
      "ROUGE-1\n",
      "\n",
      "F: 0.5056936203517117  R: 0.4686282999039368  P: 0.558307675520842\n",
      "\n",
      "ROUGE-2\n",
      "\n",
      "F: 0.31344923888365345  R: 0.28913600407364287  P: 0.34862583947845693\n",
      "\n",
      "ROUGE-3\n",
      "\n",
      "F: 0.2593060802503736  R: 0.23878562627239727  P: 0.28923397230393416\n",
      "\n",
      "ROUGE-L\n",
      "\n",
      "F: 0.3941206945403351  R: 0.3683255357545122  P: 0.42923334194569024\n",
      "\n",
      "ROUGE-W\n",
      "\n",
      "F: 0.14574990282139721  R: 0.09743972294874483  P: 0.29601241716434684\n",
      "\n"
     ]
    }
   ],
   "source": [
    "candidate_bart_business,reference_bart_business=get_results(\"Bart2_Summaries\",\"business\",1,511)\n",
    "results_bart = get_score(candidate_bart_business,reference_bart_business)"
   ]
  },
  {
   "cell_type": "code",
   "execution_count": 25,
   "metadata": {},
   "outputs": [
    {
     "data": {
      "image/png": "[encoded data removed]",
      "text/plain": [
       "<Figure size 432x288 with 1 Axes>"
      ]
     },
     "metadata": {
      "needs_background": "light"
     },
     "output_type": "display_data"
    }
   ],
   "source": [
    "draw_graph(results_bart,'bart')"
   ]
  },
  {
   "cell_type": "code",
   "execution_count": 28,
   "metadata": {},
   "outputs": [
    {
     "data": {
      "image/png": "[encoded data removed]",
      "text/plain": [
       "<Figure size 432x288 with 1 Axes>"
      ]
     },
     "metadata": {
      "needs_background": "light"
     },
     "output_type": "display_data"
    }
   ],
   "source": [
    "df1 = pd.DataFrame([['gpt2','p',results_gpt2['rouge-1']['p']],['bert','r',results_bert['rouge-1']['r']],['bert','f',results_bart['rouge-1']['f']]],columns=['rouge-1','metric','val'])\n",
    "\n",
    "df1.pivot(\"rouge-1\", \"metric\", \"val\").plot(kind='bar')\n",
    "plt.show()\n"
   ]
  },
  {
   "cell_type": "code",
   "execution_count": null,
   "metadata": {},
   "outputs": [],
   "source": []
  }
 ],
 "metadata": {
  "kernelspec": {
   "display_name": "Python 3",
   "language": "python",
   "name": "python3"
  },
  "language_info": {
   "codemirror_mode": {
    "name": "ipython",
    "version": 3
   },
   "file_extension": ".py",
   "mimetype": "text/x-python",
   "name": "python",
   "nbconvert_exporter": "python",
   "pygments_lexer": "ipython3",
   "version": "3.8.5"
  }
 },
 "nbformat": 4,
 "nbformat_minor": 4
}
