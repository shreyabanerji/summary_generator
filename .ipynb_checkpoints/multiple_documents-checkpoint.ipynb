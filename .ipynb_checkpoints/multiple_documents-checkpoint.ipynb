{
 "cells": [
  {
   "cell_type": "code",
   "execution_count": 7,
   "metadata": {},
   "outputs": [],
   "source": [
    "from ipynb.fs.defs.bbc_gpt2_all import gpt2\n",
    "from ipynb.fs.defs.bbc_bert1_all import bert\n",
    "from ipynb.fs.defs.bbc_bart1_all import bart"
   ]
  },
  {
   "cell_type": "code",
   "execution_count": 33,
   "metadata": {},
   "outputs": [],
   "source": [
    "def generate(model,model_name,folder,start,end):\n",
    "    final=\"\"\n",
    "    for i in range(start,end+1):\n",
    "        t1 = open(\"/Users/shreyabanerjee/Summarizer/multiple_docs/news/\"+folder+\"/\"+\"text\"+str(i),\"r\")\n",
    "        #print(i)\n",
    "        final=final+t1.read()\n",
    "    summary=model(final)\n",
    "    t2=open(\"/Users/shreyabanerjee/Summarizer/multiple_docs/summary/\"+folder+\"/\"+model_name+\"/\"+\"summary.txt\",\"w\")\n",
    "    t2.write(summary)\n",
    "    return summary"
   ]
  },
  {
   "cell_type": "code",
   "execution_count": 34,
   "metadata": {},
   "outputs": [
    {
     "name": "stderr",
     "output_type": "stream",
     "text": [
      "Some weights of GPT2Model were not initialized from the model checkpoint at gpt2-medium and are newly initialized: ['h.0.attn.masked_bias', 'h.1.attn.masked_bias', 'h.2.attn.masked_bias', 'h.3.attn.masked_bias', 'h.4.attn.masked_bias', 'h.5.attn.masked_bias', 'h.6.attn.masked_bias', 'h.7.attn.masked_bias', 'h.8.attn.masked_bias', 'h.9.attn.masked_bias', 'h.10.attn.masked_bias', 'h.11.attn.masked_bias', 'h.12.attn.masked_bias', 'h.13.attn.masked_bias', 'h.14.attn.masked_bias', 'h.15.attn.masked_bias', 'h.16.attn.masked_bias', 'h.17.attn.masked_bias', 'h.18.attn.masked_bias', 'h.19.attn.masked_bias', 'h.20.attn.masked_bias', 'h.21.attn.masked_bias', 'h.22.attn.masked_bias', 'h.23.attn.masked_bias']\n",
      "You should probably TRAIN this model on a down-stream task to be able to use it for predictions and inference.\n"
     ]
    },
    {
     "name": "stdout",
     "output_type": "stream",
     "text": [
      "With the coronavirus number showing an increasing trend over the last two weeks, Maharashtra has reintroduced some restrictions on the assembly and movement of people. With 3,228 cases in that week (February 8-14), Pune had the highest number among these. “It is not uncommon to see gatherings of 400-500 at marriages or other events these days. Also, people would have to wear masks at these functions,” Dr Rahul Pandit, a member of the state’s Covid-19 task force, said. Dr Shashank Joshi said there was also a mistaken belief that the epidemic was over. “ We cannot let our guard down and use Covid fatigue as an excuse to not wear masks. In fact, like in the United States, there is a need to start using double-layered masks,” he said. He said the district administration had authorised to shut schools if the situation so warranted. Interestingly, there has been a drop in the number of samples being tested. Contact tracing efforts have also become weaker. Districts like Sindhudurg, Wardha, Palghar, Osmanabad, Nandurbar and Chandrapure have reported very low testing in recent days, even less than the recommended 140 per million. “Our teams are now at various places across the 14 districts that have shown an increase in numbers, and identifying the most vulnerable spots to take necessary actions,” Dr Awate said. Maharashtra has been witnessing a surge in coronavirus cases\n",
      "The state reported 4,787 new Covid-19 cases on Wednesday, the highest one-day count this year. Among the districts, Amravati reported the highest rise in a day, from 82 cases on Tuesday to 230 cases on Wednesday.\n",
      "\n",
      "For the first time since mid-January, Maharashtra has reported more than 3,000 new cases of Covid-19 infections. Maharashtra has reintroduced some restrictions on the assembly and movement of people. The state government has warned that it could even bring back the lockdown if it was felt necessary. Nearly 60 per cent of the new infections in the second week of February were reported from Pune, Mumbai, Nagpur, Thane and Amravati. The spike seen in the last two weeks is a reversal of a declining trend that seemed to have become permanent in the state. The number of cases has dropped to less than the 140 million recommended in recent days, even though contact tracing efforts have also become weaker in the number of samples being tested for the disease. The last time the state reported 20,207 new cases was in the week ending this Sunday (February 14), compared to 17,672 in the previous week (February 1-7). In the week prior to that (January 25-31), the state had reported 17,293 cases.\n",
      "\n",
      "With the coronavirus number showing an increasing trend over the last two weeks, Maharashtra has reintroduced some restrictions on the assembly and movement of people. Mumbai, Pune, their surrounding areas along with the Vidarbha region have contributed the maximum to this surge. With 3,228 cases in that week (February 8-14), Pune had the highest number among these. “It is not uncommon to see gatherings of 400-500 at marriages or other events these days. But from now on, the rule of not more than 50 invitees would be strictly enforced. Dr Shashank Joshi said there was also a mistaken belief that the epidemic was over. “ We cannot let our guard down and use Covid fatigue as an excuse to not wear masks. In fact, like in the United States, there is a need to start using double-layered masks,” he said. State health minister Rajesh Tope agreed, and said people not following physical distancing norms, or avoiding face masks, would be heavily penalised. Interestingly, there has been a drop in the number of samples being tested. The Maharashtra government may impose a stricter lockdown in Yavatmal, Amravati and Akola cities of Vidarbha region of the state \"at any moment\" in view of the COVID-19 situation there, news agency PTI reported. Maharashtra has been witnessing a surge in coronavirus cases. It has made it mandatory for travellers to carry a Covid-negative report while entering the state.\n",
      "\n"
     ]
    }
   ],
   "source": [
    "print(generate(gpt2,\"gpt2\",\"Covid\",1,2)+\"\\n\")\n",
    "print(generate(bart,\"bart\",\"Covid\",1,2)+\"\\n\")\n",
    "print(generate(bert,\"bert\",\"Covid\",1,2)+\"\\n\")"
   ]
  },
  {
   "cell_type": "code",
   "execution_count": null,
   "metadata": {},
   "outputs": [],
   "source": []
  }
 ],
 "metadata": {
  "kernelspec": {
   "display_name": "Python 3",
   "language": "python",
   "name": "python3"
  },
  "language_info": {
   "codemirror_mode": {
    "name": "ipython",
    "version": 3
   },
   "file_extension": ".py",
   "mimetype": "text/x-python",
   "name": "python",
   "nbconvert_exporter": "python",
   "pygments_lexer": "ipython3",
   "version": "3.8.5"
  }
 },
 "nbformat": 4,
 "nbformat_minor": 4
}
